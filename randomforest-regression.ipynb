{
  "nbformat": 4,
  "nbformat_minor": 0,
  "metadata": {
    "colab": {
      "provenance": []
    },
    "kernelspec": {
      "name": "python3",
      "display_name": "Python 3"
    },
    "language_info": {
      "name": "python"
    }
  },
  "cells": [
    {
      "cell_type": "code",
      "execution_count": null,
      "metadata": {
        "id": "sh6Y9m0JagrS"
      },
      "outputs": [],
      "source": [
        "# importing the required libraries\n",
        "\n",
        "import numpy as np\n",
        "import pandas as pd\n",
        "import matplotlib.pyplot as plt\n",
        "import seaborn as sns\n",
        "\n",
        "from sklearn.model_selection import train_test_split\n",
        "from sklearn.ensemble import RandomForestRegressor\n",
        "from sklearn.metrics import mean_squared_error, mean_absolute_error"
      ]
    },
    {
      "cell_type": "code",
      "source": [
        "# read the csv file melbourne_housingprice_data \n",
        "\n",
        "melb_data = pd.read_csv(\"/content/melb_data.csv\")\n",
        "\n",
        "# printing the first and last 5 rows and all columns \n",
        "\n",
        "melb_data.head()\n",
        "\n"
      ],
      "metadata": {
        "colab": {
          "base_uri": "https://localhost:8080/",
          "height": 421
        },
        "id": "FqM10Zzvhiot",
        "outputId": "a94bb6b5-7a42-4861-825f-74f5ed63f603"
      },
      "execution_count": null,
      "outputs": [
        {
          "output_type": "execute_result",
          "data": {
            "text/plain": [
              "       Suburb           Address  Rooms Type      Price Method SellerG  \\\n",
              "0  Abbotsford      85 Turner St      2    h  1480000.0      S  Biggin   \n",
              "1  Abbotsford   25 Bloomburg St      2    h  1035000.0      S  Biggin   \n",
              "2  Abbotsford      5 Charles St      3    h  1465000.0     SP  Biggin   \n",
              "3  Abbotsford  40 Federation La      3    h   850000.0     PI  Biggin   \n",
              "4  Abbotsford       55a Park St      4    h  1600000.0     VB  Nelson   \n",
              "\n",
              "        Date  Distance  Postcode  ...  Bathroom  Car  Landsize  BuildingArea  \\\n",
              "0  3/12/2016       2.5    3067.0  ...       1.0  1.0     202.0           NaN   \n",
              "1  4/02/2016       2.5    3067.0  ...       1.0  0.0     156.0          79.0   \n",
              "2  4/03/2017       2.5    3067.0  ...       2.0  0.0     134.0         150.0   \n",
              "3  4/03/2017       2.5    3067.0  ...       2.0  1.0      94.0           NaN   \n",
              "4  4/06/2016       2.5    3067.0  ...       1.0  2.0     120.0         142.0   \n",
              "\n",
              "   YearBuilt  CouncilArea Lattitude  Longtitude             Regionname  \\\n",
              "0        NaN        Yarra  -37.7996    144.9984  Northern Metropolitan   \n",
              "1     1900.0        Yarra  -37.8079    144.9934  Northern Metropolitan   \n",
              "2     1900.0        Yarra  -37.8093    144.9944  Northern Metropolitan   \n",
              "3        NaN        Yarra  -37.7969    144.9969  Northern Metropolitan   \n",
              "4     2014.0        Yarra  -37.8072    144.9941  Northern Metropolitan   \n",
              "\n",
              "  Propertycount  \n",
              "0        4019.0  \n",
              "1        4019.0  \n",
              "2        4019.0  \n",
              "3        4019.0  \n",
              "4        4019.0  \n",
              "\n",
              "[5 rows x 21 columns]"
            ],
            "text/html": [
              "\n",
              "  <div id=\"df-7f436c4a-efe9-40d3-8d1b-60ce404ae62b\">\n",
              "    <div class=\"colab-df-container\">\n",
              "      <div>\n",
              "<style scoped>\n",
              "    .dataframe tbody tr th:only-of-type {\n",
              "        vertical-align: middle;\n",
              "    }\n",
              "\n",
              "    .dataframe tbody tr th {\n",
              "        vertical-align: top;\n",
              "    }\n",
              "\n",
              "    .dataframe thead th {\n",
              "        text-align: right;\n",
              "    }\n",
              "</style>\n",
              "<table border=\"1\" class=\"dataframe\">\n",
              "  <thead>\n",
              "    <tr style=\"text-align: right;\">\n",
              "      <th></th>\n",
              "      <th>Suburb</th>\n",
              "      <th>Address</th>\n",
              "      <th>Rooms</th>\n",
              "      <th>Type</th>\n",
              "      <th>Price</th>\n",
              "      <th>Method</th>\n",
              "      <th>SellerG</th>\n",
              "      <th>Date</th>\n",
              "      <th>Distance</th>\n",
              "      <th>Postcode</th>\n",
              "      <th>...</th>\n",
              "      <th>Bathroom</th>\n",
              "      <th>Car</th>\n",
              "      <th>Landsize</th>\n",
              "      <th>BuildingArea</th>\n",
              "      <th>YearBuilt</th>\n",
              "      <th>CouncilArea</th>\n",
              "      <th>Lattitude</th>\n",
              "      <th>Longtitude</th>\n",
              "      <th>Regionname</th>\n",
              "      <th>Propertycount</th>\n",
              "    </tr>\n",
              "  </thead>\n",
              "  <tbody>\n",
              "    <tr>\n",
              "      <th>0</th>\n",
              "      <td>Abbotsford</td>\n",
              "      <td>85 Turner St</td>\n",
              "      <td>2</td>\n",
              "      <td>h</td>\n",
              "      <td>1480000.0</td>\n",
              "      <td>S</td>\n",
              "      <td>Biggin</td>\n",
              "      <td>3/12/2016</td>\n",
              "      <td>2.5</td>\n",
              "      <td>3067.0</td>\n",
              "      <td>...</td>\n",
              "      <td>1.0</td>\n",
              "      <td>1.0</td>\n",
              "      <td>202.0</td>\n",
              "      <td>NaN</td>\n",
              "      <td>NaN</td>\n",
              "      <td>Yarra</td>\n",
              "      <td>-37.7996</td>\n",
              "      <td>144.9984</td>\n",
              "      <td>Northern Metropolitan</td>\n",
              "      <td>4019.0</td>\n",
              "    </tr>\n",
              "    <tr>\n",
              "      <th>1</th>\n",
              "      <td>Abbotsford</td>\n",
              "      <td>25 Bloomburg St</td>\n",
              "      <td>2</td>\n",
              "      <td>h</td>\n",
              "      <td>1035000.0</td>\n",
              "      <td>S</td>\n",
              "      <td>Biggin</td>\n",
              "      <td>4/02/2016</td>\n",
              "      <td>2.5</td>\n",
              "      <td>3067.0</td>\n",
              "      <td>...</td>\n",
              "      <td>1.0</td>\n",
              "      <td>0.0</td>\n",
              "      <td>156.0</td>\n",
              "      <td>79.0</td>\n",
              "      <td>1900.0</td>\n",
              "      <td>Yarra</td>\n",
              "      <td>-37.8079</td>\n",
              "      <td>144.9934</td>\n",
              "      <td>Northern Metropolitan</td>\n",
              "      <td>4019.0</td>\n",
              "    </tr>\n",
              "    <tr>\n",
              "      <th>2</th>\n",
              "      <td>Abbotsford</td>\n",
              "      <td>5 Charles St</td>\n",
              "      <td>3</td>\n",
              "      <td>h</td>\n",
              "      <td>1465000.0</td>\n",
              "      <td>SP</td>\n",
              "      <td>Biggin</td>\n",
              "      <td>4/03/2017</td>\n",
              "      <td>2.5</td>\n",
              "      <td>3067.0</td>\n",
              "      <td>...</td>\n",
              "      <td>2.0</td>\n",
              "      <td>0.0</td>\n",
              "      <td>134.0</td>\n",
              "      <td>150.0</td>\n",
              "      <td>1900.0</td>\n",
              "      <td>Yarra</td>\n",
              "      <td>-37.8093</td>\n",
              "      <td>144.9944</td>\n",
              "      <td>Northern Metropolitan</td>\n",
              "      <td>4019.0</td>\n",
              "    </tr>\n",
              "    <tr>\n",
              "      <th>3</th>\n",
              "      <td>Abbotsford</td>\n",
              "      <td>40 Federation La</td>\n",
              "      <td>3</td>\n",
              "      <td>h</td>\n",
              "      <td>850000.0</td>\n",
              "      <td>PI</td>\n",
              "      <td>Biggin</td>\n",
              "      <td>4/03/2017</td>\n",
              "      <td>2.5</td>\n",
              "      <td>3067.0</td>\n",
              "      <td>...</td>\n",
              "      <td>2.0</td>\n",
              "      <td>1.0</td>\n",
              "      <td>94.0</td>\n",
              "      <td>NaN</td>\n",
              "      <td>NaN</td>\n",
              "      <td>Yarra</td>\n",
              "      <td>-37.7969</td>\n",
              "      <td>144.9969</td>\n",
              "      <td>Northern Metropolitan</td>\n",
              "      <td>4019.0</td>\n",
              "    </tr>\n",
              "    <tr>\n",
              "      <th>4</th>\n",
              "      <td>Abbotsford</td>\n",
              "      <td>55a Park St</td>\n",
              "      <td>4</td>\n",
              "      <td>h</td>\n",
              "      <td>1600000.0</td>\n",
              "      <td>VB</td>\n",
              "      <td>Nelson</td>\n",
              "      <td>4/06/2016</td>\n",
              "      <td>2.5</td>\n",
              "      <td>3067.0</td>\n",
              "      <td>...</td>\n",
              "      <td>1.0</td>\n",
              "      <td>2.0</td>\n",
              "      <td>120.0</td>\n",
              "      <td>142.0</td>\n",
              "      <td>2014.0</td>\n",
              "      <td>Yarra</td>\n",
              "      <td>-37.8072</td>\n",
              "      <td>144.9941</td>\n",
              "      <td>Northern Metropolitan</td>\n",
              "      <td>4019.0</td>\n",
              "    </tr>\n",
              "  </tbody>\n",
              "</table>\n",
              "<p>5 rows × 21 columns</p>\n",
              "</div>\n",
              "      <button class=\"colab-df-convert\" onclick=\"convertToInteractive('df-7f436c4a-efe9-40d3-8d1b-60ce404ae62b')\"\n",
              "              title=\"Convert this dataframe to an interactive table.\"\n",
              "              style=\"display:none;\">\n",
              "        \n",
              "  <svg xmlns=\"http://www.w3.org/2000/svg\" height=\"24px\"viewBox=\"0 0 24 24\"\n",
              "       width=\"24px\">\n",
              "    <path d=\"M0 0h24v24H0V0z\" fill=\"none\"/>\n",
              "    <path d=\"M18.56 5.44l.94 2.06.94-2.06 2.06-.94-2.06-.94-.94-2.06-.94 2.06-2.06.94zm-11 1L8.5 8.5l.94-2.06 2.06-.94-2.06-.94L8.5 2.5l-.94 2.06-2.06.94zm10 10l.94 2.06.94-2.06 2.06-.94-2.06-.94-.94-2.06-.94 2.06-2.06.94z\"/><path d=\"M17.41 7.96l-1.37-1.37c-.4-.4-.92-.59-1.43-.59-.52 0-1.04.2-1.43.59L10.3 9.45l-7.72 7.72c-.78.78-.78 2.05 0 2.83L4 21.41c.39.39.9.59 1.41.59.51 0 1.02-.2 1.41-.59l7.78-7.78 2.81-2.81c.8-.78.8-2.07 0-2.86zM5.41 20L4 18.59l7.72-7.72 1.47 1.35L5.41 20z\"/>\n",
              "  </svg>\n",
              "      </button>\n",
              "      \n",
              "  <style>\n",
              "    .colab-df-container {\n",
              "      display:flex;\n",
              "      flex-wrap:wrap;\n",
              "      gap: 12px;\n",
              "    }\n",
              "\n",
              "    .colab-df-convert {\n",
              "      background-color: #E8F0FE;\n",
              "      border: none;\n",
              "      border-radius: 50%;\n",
              "      cursor: pointer;\n",
              "      display: none;\n",
              "      fill: #1967D2;\n",
              "      height: 32px;\n",
              "      padding: 0 0 0 0;\n",
              "      width: 32px;\n",
              "    }\n",
              "\n",
              "    .colab-df-convert:hover {\n",
              "      background-color: #E2EBFA;\n",
              "      box-shadow: 0px 1px 2px rgba(60, 64, 67, 0.3), 0px 1px 3px 1px rgba(60, 64, 67, 0.15);\n",
              "      fill: #174EA6;\n",
              "    }\n",
              "\n",
              "    [theme=dark] .colab-df-convert {\n",
              "      background-color: #3B4455;\n",
              "      fill: #D2E3FC;\n",
              "    }\n",
              "\n",
              "    [theme=dark] .colab-df-convert:hover {\n",
              "      background-color: #434B5C;\n",
              "      box-shadow: 0px 1px 3px 1px rgba(0, 0, 0, 0.15);\n",
              "      filter: drop-shadow(0px 1px 2px rgba(0, 0, 0, 0.3));\n",
              "      fill: #FFFFFF;\n",
              "    }\n",
              "  </style>\n",
              "\n",
              "      <script>\n",
              "        const buttonEl =\n",
              "          document.querySelector('#df-7f436c4a-efe9-40d3-8d1b-60ce404ae62b button.colab-df-convert');\n",
              "        buttonEl.style.display =\n",
              "          google.colab.kernel.accessAllowed ? 'block' : 'none';\n",
              "\n",
              "        async function convertToInteractive(key) {\n",
              "          const element = document.querySelector('#df-7f436c4a-efe9-40d3-8d1b-60ce404ae62b');\n",
              "          const dataTable =\n",
              "            await google.colab.kernel.invokeFunction('convertToInteractive',\n",
              "                                                     [key], {});\n",
              "          if (!dataTable) return;\n",
              "\n",
              "          const docLinkHtml = 'Like what you see? Visit the ' +\n",
              "            '<a target=\"_blank\" href=https://colab.research.google.com/notebooks/data_table.ipynb>data table notebook</a>'\n",
              "            + ' to learn more about interactive tables.';\n",
              "          element.innerHTML = '';\n",
              "          dataTable['output_type'] = 'display_data';\n",
              "          await google.colab.output.renderOutput(dataTable, element);\n",
              "          const docLink = document.createElement('div');\n",
              "          docLink.innerHTML = docLinkHtml;\n",
              "          element.appendChild(docLink);\n",
              "        }\n",
              "      </script>\n",
              "    </div>\n",
              "  </div>\n",
              "  "
            ]
          },
          "metadata": {},
          "execution_count": 6
        }
      ]
    },
    {
      "cell_type": "code",
      "source": [
        "# printing the last 5 rows and all columns\n",
        "\n",
        "melb_data.tail()"
      ],
      "metadata": {
        "colab": {
          "base_uri": "https://localhost:8080/",
          "height": 456
        },
        "id": "XSS4X6dih4QI",
        "outputId": "1af915b5-a4b4-4606-ace9-4eed91d76cd9"
      },
      "execution_count": null,
      "outputs": [
        {
          "output_type": "execute_result",
          "data": {
            "text/plain": [
              "              Suburb        Address  Rooms Type      Price Method   SellerG  \\\n",
              "13575  Wheelers Hill   12 Strada Cr      4    h  1245000.0      S     Barry   \n",
              "13576   Williamstown  77 Merrett Dr      3    h  1031000.0     SP  Williams   \n",
              "13577   Williamstown    83 Power St      3    h  1170000.0      S     Raine   \n",
              "13578   Williamstown   96 Verdon St      4    h  2500000.0     PI   Sweeney   \n",
              "13579     Yarraville     6 Agnes St      4    h  1285000.0     SP   Village   \n",
              "\n",
              "             Date  Distance  Postcode  ...  Bathroom  Car  Landsize  \\\n",
              "13575  26/08/2017      16.7    3150.0  ...       2.0  2.0     652.0   \n",
              "13576  26/08/2017       6.8    3016.0  ...       2.0  2.0     333.0   \n",
              "13577  26/08/2017       6.8    3016.0  ...       2.0  4.0     436.0   \n",
              "13578  26/08/2017       6.8    3016.0  ...       1.0  5.0     866.0   \n",
              "13579  26/08/2017       6.3    3013.0  ...       1.0  1.0     362.0   \n",
              "\n",
              "       BuildingArea  YearBuilt  CouncilArea Lattitude  Longtitude  \\\n",
              "13575           NaN     1981.0          NaN -37.90562   145.16761   \n",
              "13576         133.0     1995.0          NaN -37.85927   144.87904   \n",
              "13577           NaN     1997.0          NaN -37.85274   144.88738   \n",
              "13578         157.0     1920.0          NaN -37.85908   144.89299   \n",
              "13579         112.0     1920.0          NaN -37.81188   144.88449   \n",
              "\n",
              "                       Regionname Propertycount  \n",
              "13575  South-Eastern Metropolitan        7392.0  \n",
              "13576        Western Metropolitan        6380.0  \n",
              "13577        Western Metropolitan        6380.0  \n",
              "13578        Western Metropolitan        6380.0  \n",
              "13579        Western Metropolitan        6543.0  \n",
              "\n",
              "[5 rows x 21 columns]"
            ],
            "text/html": [
              "\n",
              "  <div id=\"df-6cb65a28-502e-4dfe-95cf-5e68d73b055f\">\n",
              "    <div class=\"colab-df-container\">\n",
              "      <div>\n",
              "<style scoped>\n",
              "    .dataframe tbody tr th:only-of-type {\n",
              "        vertical-align: middle;\n",
              "    }\n",
              "\n",
              "    .dataframe tbody tr th {\n",
              "        vertical-align: top;\n",
              "    }\n",
              "\n",
              "    .dataframe thead th {\n",
              "        text-align: right;\n",
              "    }\n",
              "</style>\n",
              "<table border=\"1\" class=\"dataframe\">\n",
              "  <thead>\n",
              "    <tr style=\"text-align: right;\">\n",
              "      <th></th>\n",
              "      <th>Suburb</th>\n",
              "      <th>Address</th>\n",
              "      <th>Rooms</th>\n",
              "      <th>Type</th>\n",
              "      <th>Price</th>\n",
              "      <th>Method</th>\n",
              "      <th>SellerG</th>\n",
              "      <th>Date</th>\n",
              "      <th>Distance</th>\n",
              "      <th>Postcode</th>\n",
              "      <th>...</th>\n",
              "      <th>Bathroom</th>\n",
              "      <th>Car</th>\n",
              "      <th>Landsize</th>\n",
              "      <th>BuildingArea</th>\n",
              "      <th>YearBuilt</th>\n",
              "      <th>CouncilArea</th>\n",
              "      <th>Lattitude</th>\n",
              "      <th>Longtitude</th>\n",
              "      <th>Regionname</th>\n",
              "      <th>Propertycount</th>\n",
              "    </tr>\n",
              "  </thead>\n",
              "  <tbody>\n",
              "    <tr>\n",
              "      <th>13575</th>\n",
              "      <td>Wheelers Hill</td>\n",
              "      <td>12 Strada Cr</td>\n",
              "      <td>4</td>\n",
              "      <td>h</td>\n",
              "      <td>1245000.0</td>\n",
              "      <td>S</td>\n",
              "      <td>Barry</td>\n",
              "      <td>26/08/2017</td>\n",
              "      <td>16.7</td>\n",
              "      <td>3150.0</td>\n",
              "      <td>...</td>\n",
              "      <td>2.0</td>\n",
              "      <td>2.0</td>\n",
              "      <td>652.0</td>\n",
              "      <td>NaN</td>\n",
              "      <td>1981.0</td>\n",
              "      <td>NaN</td>\n",
              "      <td>-37.90562</td>\n",
              "      <td>145.16761</td>\n",
              "      <td>South-Eastern Metropolitan</td>\n",
              "      <td>7392.0</td>\n",
              "    </tr>\n",
              "    <tr>\n",
              "      <th>13576</th>\n",
              "      <td>Williamstown</td>\n",
              "      <td>77 Merrett Dr</td>\n",
              "      <td>3</td>\n",
              "      <td>h</td>\n",
              "      <td>1031000.0</td>\n",
              "      <td>SP</td>\n",
              "      <td>Williams</td>\n",
              "      <td>26/08/2017</td>\n",
              "      <td>6.8</td>\n",
              "      <td>3016.0</td>\n",
              "      <td>...</td>\n",
              "      <td>2.0</td>\n",
              "      <td>2.0</td>\n",
              "      <td>333.0</td>\n",
              "      <td>133.0</td>\n",
              "      <td>1995.0</td>\n",
              "      <td>NaN</td>\n",
              "      <td>-37.85927</td>\n",
              "      <td>144.87904</td>\n",
              "      <td>Western Metropolitan</td>\n",
              "      <td>6380.0</td>\n",
              "    </tr>\n",
              "    <tr>\n",
              "      <th>13577</th>\n",
              "      <td>Williamstown</td>\n",
              "      <td>83 Power St</td>\n",
              "      <td>3</td>\n",
              "      <td>h</td>\n",
              "      <td>1170000.0</td>\n",
              "      <td>S</td>\n",
              "      <td>Raine</td>\n",
              "      <td>26/08/2017</td>\n",
              "      <td>6.8</td>\n",
              "      <td>3016.0</td>\n",
              "      <td>...</td>\n",
              "      <td>2.0</td>\n",
              "      <td>4.0</td>\n",
              "      <td>436.0</td>\n",
              "      <td>NaN</td>\n",
              "      <td>1997.0</td>\n",
              "      <td>NaN</td>\n",
              "      <td>-37.85274</td>\n",
              "      <td>144.88738</td>\n",
              "      <td>Western Metropolitan</td>\n",
              "      <td>6380.0</td>\n",
              "    </tr>\n",
              "    <tr>\n",
              "      <th>13578</th>\n",
              "      <td>Williamstown</td>\n",
              "      <td>96 Verdon St</td>\n",
              "      <td>4</td>\n",
              "      <td>h</td>\n",
              "      <td>2500000.0</td>\n",
              "      <td>PI</td>\n",
              "      <td>Sweeney</td>\n",
              "      <td>26/08/2017</td>\n",
              "      <td>6.8</td>\n",
              "      <td>3016.0</td>\n",
              "      <td>...</td>\n",
              "      <td>1.0</td>\n",
              "      <td>5.0</td>\n",
              "      <td>866.0</td>\n",
              "      <td>157.0</td>\n",
              "      <td>1920.0</td>\n",
              "      <td>NaN</td>\n",
              "      <td>-37.85908</td>\n",
              "      <td>144.89299</td>\n",
              "      <td>Western Metropolitan</td>\n",
              "      <td>6380.0</td>\n",
              "    </tr>\n",
              "    <tr>\n",
              "      <th>13579</th>\n",
              "      <td>Yarraville</td>\n",
              "      <td>6 Agnes St</td>\n",
              "      <td>4</td>\n",
              "      <td>h</td>\n",
              "      <td>1285000.0</td>\n",
              "      <td>SP</td>\n",
              "      <td>Village</td>\n",
              "      <td>26/08/2017</td>\n",
              "      <td>6.3</td>\n",
              "      <td>3013.0</td>\n",
              "      <td>...</td>\n",
              "      <td>1.0</td>\n",
              "      <td>1.0</td>\n",
              "      <td>362.0</td>\n",
              "      <td>112.0</td>\n",
              "      <td>1920.0</td>\n",
              "      <td>NaN</td>\n",
              "      <td>-37.81188</td>\n",
              "      <td>144.88449</td>\n",
              "      <td>Western Metropolitan</td>\n",
              "      <td>6543.0</td>\n",
              "    </tr>\n",
              "  </tbody>\n",
              "</table>\n",
              "<p>5 rows × 21 columns</p>\n",
              "</div>\n",
              "      <button class=\"colab-df-convert\" onclick=\"convertToInteractive('df-6cb65a28-502e-4dfe-95cf-5e68d73b055f')\"\n",
              "              title=\"Convert this dataframe to an interactive table.\"\n",
              "              style=\"display:none;\">\n",
              "        \n",
              "  <svg xmlns=\"http://www.w3.org/2000/svg\" height=\"24px\"viewBox=\"0 0 24 24\"\n",
              "       width=\"24px\">\n",
              "    <path d=\"M0 0h24v24H0V0z\" fill=\"none\"/>\n",
              "    <path d=\"M18.56 5.44l.94 2.06.94-2.06 2.06-.94-2.06-.94-.94-2.06-.94 2.06-2.06.94zm-11 1L8.5 8.5l.94-2.06 2.06-.94-2.06-.94L8.5 2.5l-.94 2.06-2.06.94zm10 10l.94 2.06.94-2.06 2.06-.94-2.06-.94-.94-2.06-.94 2.06-2.06.94z\"/><path d=\"M17.41 7.96l-1.37-1.37c-.4-.4-.92-.59-1.43-.59-.52 0-1.04.2-1.43.59L10.3 9.45l-7.72 7.72c-.78.78-.78 2.05 0 2.83L4 21.41c.39.39.9.59 1.41.59.51 0 1.02-.2 1.41-.59l7.78-7.78 2.81-2.81c.8-.78.8-2.07 0-2.86zM5.41 20L4 18.59l7.72-7.72 1.47 1.35L5.41 20z\"/>\n",
              "  </svg>\n",
              "      </button>\n",
              "      \n",
              "  <style>\n",
              "    .colab-df-container {\n",
              "      display:flex;\n",
              "      flex-wrap:wrap;\n",
              "      gap: 12px;\n",
              "    }\n",
              "\n",
              "    .colab-df-convert {\n",
              "      background-color: #E8F0FE;\n",
              "      border: none;\n",
              "      border-radius: 50%;\n",
              "      cursor: pointer;\n",
              "      display: none;\n",
              "      fill: #1967D2;\n",
              "      height: 32px;\n",
              "      padding: 0 0 0 0;\n",
              "      width: 32px;\n",
              "    }\n",
              "\n",
              "    .colab-df-convert:hover {\n",
              "      background-color: #E2EBFA;\n",
              "      box-shadow: 0px 1px 2px rgba(60, 64, 67, 0.3), 0px 1px 3px 1px rgba(60, 64, 67, 0.15);\n",
              "      fill: #174EA6;\n",
              "    }\n",
              "\n",
              "    [theme=dark] .colab-df-convert {\n",
              "      background-color: #3B4455;\n",
              "      fill: #D2E3FC;\n",
              "    }\n",
              "\n",
              "    [theme=dark] .colab-df-convert:hover {\n",
              "      background-color: #434B5C;\n",
              "      box-shadow: 0px 1px 3px 1px rgba(0, 0, 0, 0.15);\n",
              "      filter: drop-shadow(0px 1px 2px rgba(0, 0, 0, 0.3));\n",
              "      fill: #FFFFFF;\n",
              "    }\n",
              "  </style>\n",
              "\n",
              "      <script>\n",
              "        const buttonEl =\n",
              "          document.querySelector('#df-6cb65a28-502e-4dfe-95cf-5e68d73b055f button.colab-df-convert');\n",
              "        buttonEl.style.display =\n",
              "          google.colab.kernel.accessAllowed ? 'block' : 'none';\n",
              "\n",
              "        async function convertToInteractive(key) {\n",
              "          const element = document.querySelector('#df-6cb65a28-502e-4dfe-95cf-5e68d73b055f');\n",
              "          const dataTable =\n",
              "            await google.colab.kernel.invokeFunction('convertToInteractive',\n",
              "                                                     [key], {});\n",
              "          if (!dataTable) return;\n",
              "\n",
              "          const docLinkHtml = 'Like what you see? Visit the ' +\n",
              "            '<a target=\"_blank\" href=https://colab.research.google.com/notebooks/data_table.ipynb>data table notebook</a>'\n",
              "            + ' to learn more about interactive tables.';\n",
              "          element.innerHTML = '';\n",
              "          dataTable['output_type'] = 'display_data';\n",
              "          await google.colab.output.renderOutput(dataTable, element);\n",
              "          const docLink = document.createElement('div');\n",
              "          docLink.innerHTML = docLinkHtml;\n",
              "          element.appendChild(docLink);\n",
              "        }\n",
              "      </script>\n",
              "    </div>\n",
              "  </div>\n",
              "  "
            ]
          },
          "metadata": {},
          "execution_count": 7
        }
      ]
    },
    {
      "cell_type": "code",
      "source": [
        "# observing the number of rows and columns \n",
        "\n",
        "melb_data.shape"
      ],
      "metadata": {
        "colab": {
          "base_uri": "https://localhost:8080/"
        },
        "id": "H1DIB90Ej3v-",
        "outputId": "b0041f6a-8aaa-4ebc-b0ce-1703c9474358"
      },
      "execution_count": null,
      "outputs": [
        {
          "output_type": "execute_result",
          "data": {
            "text/plain": [
              "(13580, 21)"
            ]
          },
          "metadata": {},
          "execution_count": 8
        }
      ]
    },
    {
      "cell_type": "code",
      "source": [
        "# print the all column names \n",
        "\n",
        "melb_data.columns"
      ],
      "metadata": {
        "colab": {
          "base_uri": "https://localhost:8080/"
        },
        "id": "Itv33wYbkWF7",
        "outputId": "e5e94a3c-99ff-45b3-af32-2e397b1a0e7e"
      },
      "execution_count": null,
      "outputs": [
        {
          "output_type": "execute_result",
          "data": {
            "text/plain": [
              "Index(['Suburb', 'Address', 'Rooms', 'Type', 'Price', 'Method', 'SellerG',\n",
              "       'Date', 'Distance', 'Postcode', 'Bedroom2', 'Bathroom', 'Car',\n",
              "       'Landsize', 'BuildingArea', 'YearBuilt', 'CouncilArea', 'Lattitude',\n",
              "       'Longtitude', 'Regionname', 'Propertycount'],\n",
              "      dtype='object')"
            ]
          },
          "metadata": {},
          "execution_count": 9
        }
      ]
    },
    {
      "cell_type": "code",
      "source": [
        "# print the non-null values\n",
        "\n",
        "melb_data.info()"
      ],
      "metadata": {
        "colab": {
          "base_uri": "https://localhost:8080/"
        },
        "id": "atkzJnO_lqs9",
        "outputId": "81c7825c-748b-4934-f542-7bf9a12f2780"
      },
      "execution_count": null,
      "outputs": [
        {
          "output_type": "stream",
          "name": "stdout",
          "text": [
            "<class 'pandas.core.frame.DataFrame'>\n",
            "RangeIndex: 13580 entries, 0 to 13579\n",
            "Data columns (total 21 columns):\n",
            " #   Column         Non-Null Count  Dtype  \n",
            "---  ------         --------------  -----  \n",
            " 0   Suburb         13580 non-null  object \n",
            " 1   Address        13580 non-null  object \n",
            " 2   Rooms          13580 non-null  int64  \n",
            " 3   Type           13580 non-null  object \n",
            " 4   Price          13580 non-null  float64\n",
            " 5   Method         13580 non-null  object \n",
            " 6   SellerG        13580 non-null  object \n",
            " 7   Date           13580 non-null  object \n",
            " 8   Distance       13580 non-null  float64\n",
            " 9   Postcode       13580 non-null  float64\n",
            " 10  Bedroom2       13580 non-null  float64\n",
            " 11  Bathroom       13580 non-null  float64\n",
            " 12  Car            13518 non-null  float64\n",
            " 13  Landsize       13580 non-null  float64\n",
            " 14  BuildingArea   7130 non-null   float64\n",
            " 15  YearBuilt      8205 non-null   float64\n",
            " 16  CouncilArea    12211 non-null  object \n",
            " 17  Lattitude      13580 non-null  float64\n",
            " 18  Longtitude     13580 non-null  float64\n",
            " 19  Regionname     13580 non-null  object \n",
            " 20  Propertycount  13580 non-null  float64\n",
            "dtypes: float64(12), int64(1), object(8)\n",
            "memory usage: 2.2+ MB\n"
          ]
        }
      ]
    },
    {
      "cell_type": "code",
      "source": [
        "# Generate descriptive statistics.\n",
        "\n",
        "melb_data.describe()"
      ],
      "metadata": {
        "colab": {
          "base_uri": "https://localhost:8080/",
          "height": 364
        },
        "id": "tNJnROMBIXmH",
        "outputId": "b2683303-e8c1-4235-d60a-8da4ad82fb0f"
      },
      "execution_count": null,
      "outputs": [
        {
          "output_type": "execute_result",
          "data": {
            "text/plain": [
              "              Rooms         Price      Distance      Postcode      Bedroom2  \\\n",
              "count  13580.000000  1.358000e+04  13580.000000  13580.000000  13580.000000   \n",
              "mean       2.937997  1.075684e+06     10.137776   3105.301915      2.914728   \n",
              "std        0.955748  6.393107e+05      5.868725     90.676964      0.965921   \n",
              "min        1.000000  8.500000e+04      0.000000   3000.000000      0.000000   \n",
              "25%        2.000000  6.500000e+05      6.100000   3044.000000      2.000000   \n",
              "50%        3.000000  9.030000e+05      9.200000   3084.000000      3.000000   \n",
              "75%        3.000000  1.330000e+06     13.000000   3148.000000      3.000000   \n",
              "max       10.000000  9.000000e+06     48.100000   3977.000000     20.000000   \n",
              "\n",
              "           Bathroom           Car       Landsize  BuildingArea    YearBuilt  \\\n",
              "count  13580.000000  13518.000000   13580.000000   7130.000000  8205.000000   \n",
              "mean       1.534242      1.610075     558.416127    151.967650  1964.684217   \n",
              "std        0.691712      0.962634    3990.669241    541.014538    37.273762   \n",
              "min        0.000000      0.000000       0.000000      0.000000  1196.000000   \n",
              "25%        1.000000      1.000000     177.000000     93.000000  1940.000000   \n",
              "50%        1.000000      2.000000     440.000000    126.000000  1970.000000   \n",
              "75%        2.000000      2.000000     651.000000    174.000000  1999.000000   \n",
              "max        8.000000     10.000000  433014.000000  44515.000000  2018.000000   \n",
              "\n",
              "          Lattitude    Longtitude  Propertycount  \n",
              "count  13580.000000  13580.000000   13580.000000  \n",
              "mean     -37.809203    144.995216    7454.417378  \n",
              "std        0.079260      0.103916    4378.581772  \n",
              "min      -38.182550    144.431810     249.000000  \n",
              "25%      -37.856822    144.929600    4380.000000  \n",
              "50%      -37.802355    145.000100    6555.000000  \n",
              "75%      -37.756400    145.058305   10331.000000  \n",
              "max      -37.408530    145.526350   21650.000000  "
            ],
            "text/html": [
              "\n",
              "  <div id=\"df-7f76f89a-bdbc-4e89-8702-bba4728a54fa\">\n",
              "    <div class=\"colab-df-container\">\n",
              "      <div>\n",
              "<style scoped>\n",
              "    .dataframe tbody tr th:only-of-type {\n",
              "        vertical-align: middle;\n",
              "    }\n",
              "\n",
              "    .dataframe tbody tr th {\n",
              "        vertical-align: top;\n",
              "    }\n",
              "\n",
              "    .dataframe thead th {\n",
              "        text-align: right;\n",
              "    }\n",
              "</style>\n",
              "<table border=\"1\" class=\"dataframe\">\n",
              "  <thead>\n",
              "    <tr style=\"text-align: right;\">\n",
              "      <th></th>\n",
              "      <th>Rooms</th>\n",
              "      <th>Price</th>\n",
              "      <th>Distance</th>\n",
              "      <th>Postcode</th>\n",
              "      <th>Bedroom2</th>\n",
              "      <th>Bathroom</th>\n",
              "      <th>Car</th>\n",
              "      <th>Landsize</th>\n",
              "      <th>BuildingArea</th>\n",
              "      <th>YearBuilt</th>\n",
              "      <th>Lattitude</th>\n",
              "      <th>Longtitude</th>\n",
              "      <th>Propertycount</th>\n",
              "    </tr>\n",
              "  </thead>\n",
              "  <tbody>\n",
              "    <tr>\n",
              "      <th>count</th>\n",
              "      <td>13580.000000</td>\n",
              "      <td>1.358000e+04</td>\n",
              "      <td>13580.000000</td>\n",
              "      <td>13580.000000</td>\n",
              "      <td>13580.000000</td>\n",
              "      <td>13580.000000</td>\n",
              "      <td>13518.000000</td>\n",
              "      <td>13580.000000</td>\n",
              "      <td>7130.000000</td>\n",
              "      <td>8205.000000</td>\n",
              "      <td>13580.000000</td>\n",
              "      <td>13580.000000</td>\n",
              "      <td>13580.000000</td>\n",
              "    </tr>\n",
              "    <tr>\n",
              "      <th>mean</th>\n",
              "      <td>2.937997</td>\n",
              "      <td>1.075684e+06</td>\n",
              "      <td>10.137776</td>\n",
              "      <td>3105.301915</td>\n",
              "      <td>2.914728</td>\n",
              "      <td>1.534242</td>\n",
              "      <td>1.610075</td>\n",
              "      <td>558.416127</td>\n",
              "      <td>151.967650</td>\n",
              "      <td>1964.684217</td>\n",
              "      <td>-37.809203</td>\n",
              "      <td>144.995216</td>\n",
              "      <td>7454.417378</td>\n",
              "    </tr>\n",
              "    <tr>\n",
              "      <th>std</th>\n",
              "      <td>0.955748</td>\n",
              "      <td>6.393107e+05</td>\n",
              "      <td>5.868725</td>\n",
              "      <td>90.676964</td>\n",
              "      <td>0.965921</td>\n",
              "      <td>0.691712</td>\n",
              "      <td>0.962634</td>\n",
              "      <td>3990.669241</td>\n",
              "      <td>541.014538</td>\n",
              "      <td>37.273762</td>\n",
              "      <td>0.079260</td>\n",
              "      <td>0.103916</td>\n",
              "      <td>4378.581772</td>\n",
              "    </tr>\n",
              "    <tr>\n",
              "      <th>min</th>\n",
              "      <td>1.000000</td>\n",
              "      <td>8.500000e+04</td>\n",
              "      <td>0.000000</td>\n",
              "      <td>3000.000000</td>\n",
              "      <td>0.000000</td>\n",
              "      <td>0.000000</td>\n",
              "      <td>0.000000</td>\n",
              "      <td>0.000000</td>\n",
              "      <td>0.000000</td>\n",
              "      <td>1196.000000</td>\n",
              "      <td>-38.182550</td>\n",
              "      <td>144.431810</td>\n",
              "      <td>249.000000</td>\n",
              "    </tr>\n",
              "    <tr>\n",
              "      <th>25%</th>\n",
              "      <td>2.000000</td>\n",
              "      <td>6.500000e+05</td>\n",
              "      <td>6.100000</td>\n",
              "      <td>3044.000000</td>\n",
              "      <td>2.000000</td>\n",
              "      <td>1.000000</td>\n",
              "      <td>1.000000</td>\n",
              "      <td>177.000000</td>\n",
              "      <td>93.000000</td>\n",
              "      <td>1940.000000</td>\n",
              "      <td>-37.856822</td>\n",
              "      <td>144.929600</td>\n",
              "      <td>4380.000000</td>\n",
              "    </tr>\n",
              "    <tr>\n",
              "      <th>50%</th>\n",
              "      <td>3.000000</td>\n",
              "      <td>9.030000e+05</td>\n",
              "      <td>9.200000</td>\n",
              "      <td>3084.000000</td>\n",
              "      <td>3.000000</td>\n",
              "      <td>1.000000</td>\n",
              "      <td>2.000000</td>\n",
              "      <td>440.000000</td>\n",
              "      <td>126.000000</td>\n",
              "      <td>1970.000000</td>\n",
              "      <td>-37.802355</td>\n",
              "      <td>145.000100</td>\n",
              "      <td>6555.000000</td>\n",
              "    </tr>\n",
              "    <tr>\n",
              "      <th>75%</th>\n",
              "      <td>3.000000</td>\n",
              "      <td>1.330000e+06</td>\n",
              "      <td>13.000000</td>\n",
              "      <td>3148.000000</td>\n",
              "      <td>3.000000</td>\n",
              "      <td>2.000000</td>\n",
              "      <td>2.000000</td>\n",
              "      <td>651.000000</td>\n",
              "      <td>174.000000</td>\n",
              "      <td>1999.000000</td>\n",
              "      <td>-37.756400</td>\n",
              "      <td>145.058305</td>\n",
              "      <td>10331.000000</td>\n",
              "    </tr>\n",
              "    <tr>\n",
              "      <th>max</th>\n",
              "      <td>10.000000</td>\n",
              "      <td>9.000000e+06</td>\n",
              "      <td>48.100000</td>\n",
              "      <td>3977.000000</td>\n",
              "      <td>20.000000</td>\n",
              "      <td>8.000000</td>\n",
              "      <td>10.000000</td>\n",
              "      <td>433014.000000</td>\n",
              "      <td>44515.000000</td>\n",
              "      <td>2018.000000</td>\n",
              "      <td>-37.408530</td>\n",
              "      <td>145.526350</td>\n",
              "      <td>21650.000000</td>\n",
              "    </tr>\n",
              "  </tbody>\n",
              "</table>\n",
              "</div>\n",
              "      <button class=\"colab-df-convert\" onclick=\"convertToInteractive('df-7f76f89a-bdbc-4e89-8702-bba4728a54fa')\"\n",
              "              title=\"Convert this dataframe to an interactive table.\"\n",
              "              style=\"display:none;\">\n",
              "        \n",
              "  <svg xmlns=\"http://www.w3.org/2000/svg\" height=\"24px\"viewBox=\"0 0 24 24\"\n",
              "       width=\"24px\">\n",
              "    <path d=\"M0 0h24v24H0V0z\" fill=\"none\"/>\n",
              "    <path d=\"M18.56 5.44l.94 2.06.94-2.06 2.06-.94-2.06-.94-.94-2.06-.94 2.06-2.06.94zm-11 1L8.5 8.5l.94-2.06 2.06-.94-2.06-.94L8.5 2.5l-.94 2.06-2.06.94zm10 10l.94 2.06.94-2.06 2.06-.94-2.06-.94-.94-2.06-.94 2.06-2.06.94z\"/><path d=\"M17.41 7.96l-1.37-1.37c-.4-.4-.92-.59-1.43-.59-.52 0-1.04.2-1.43.59L10.3 9.45l-7.72 7.72c-.78.78-.78 2.05 0 2.83L4 21.41c.39.39.9.59 1.41.59.51 0 1.02-.2 1.41-.59l7.78-7.78 2.81-2.81c.8-.78.8-2.07 0-2.86zM5.41 20L4 18.59l7.72-7.72 1.47 1.35L5.41 20z\"/>\n",
              "  </svg>\n",
              "      </button>\n",
              "      \n",
              "  <style>\n",
              "    .colab-df-container {\n",
              "      display:flex;\n",
              "      flex-wrap:wrap;\n",
              "      gap: 12px;\n",
              "    }\n",
              "\n",
              "    .colab-df-convert {\n",
              "      background-color: #E8F0FE;\n",
              "      border: none;\n",
              "      border-radius: 50%;\n",
              "      cursor: pointer;\n",
              "      display: none;\n",
              "      fill: #1967D2;\n",
              "      height: 32px;\n",
              "      padding: 0 0 0 0;\n",
              "      width: 32px;\n",
              "    }\n",
              "\n",
              "    .colab-df-convert:hover {\n",
              "      background-color: #E2EBFA;\n",
              "      box-shadow: 0px 1px 2px rgba(60, 64, 67, 0.3), 0px 1px 3px 1px rgba(60, 64, 67, 0.15);\n",
              "      fill: #174EA6;\n",
              "    }\n",
              "\n",
              "    [theme=dark] .colab-df-convert {\n",
              "      background-color: #3B4455;\n",
              "      fill: #D2E3FC;\n",
              "    }\n",
              "\n",
              "    [theme=dark] .colab-df-convert:hover {\n",
              "      background-color: #434B5C;\n",
              "      box-shadow: 0px 1px 3px 1px rgba(0, 0, 0, 0.15);\n",
              "      filter: drop-shadow(0px 1px 2px rgba(0, 0, 0, 0.3));\n",
              "      fill: #FFFFFF;\n",
              "    }\n",
              "  </style>\n",
              "\n",
              "      <script>\n",
              "        const buttonEl =\n",
              "          document.querySelector('#df-7f76f89a-bdbc-4e89-8702-bba4728a54fa button.colab-df-convert');\n",
              "        buttonEl.style.display =\n",
              "          google.colab.kernel.accessAllowed ? 'block' : 'none';\n",
              "\n",
              "        async function convertToInteractive(key) {\n",
              "          const element = document.querySelector('#df-7f76f89a-bdbc-4e89-8702-bba4728a54fa');\n",
              "          const dataTable =\n",
              "            await google.colab.kernel.invokeFunction('convertToInteractive',\n",
              "                                                     [key], {});\n",
              "          if (!dataTable) return;\n",
              "\n",
              "          const docLinkHtml = 'Like what you see? Visit the ' +\n",
              "            '<a target=\"_blank\" href=https://colab.research.google.com/notebooks/data_table.ipynb>data table notebook</a>'\n",
              "            + ' to learn more about interactive tables.';\n",
              "          element.innerHTML = '';\n",
              "          dataTable['output_type'] = 'display_data';\n",
              "          await google.colab.output.renderOutput(dataTable, element);\n",
              "          const docLink = document.createElement('div');\n",
              "          docLink.innerHTML = docLinkHtml;\n",
              "          element.appendChild(docLink);\n",
              "        }\n",
              "      </script>\n",
              "    </div>\n",
              "  </div>\n",
              "  "
            ]
          },
          "metadata": {},
          "execution_count": 11
        }
      ]
    },
    {
      "cell_type": "code",
      "source": [
        "# check for the null values \n",
        "\n",
        "melb_data.isnull().sum()"
      ],
      "metadata": {
        "colab": {
          "base_uri": "https://localhost:8080/"
        },
        "id": "bXDwzlq4KKIg",
        "outputId": "409853e2-fb4d-4b32-c0ca-64bf271bcf26"
      },
      "execution_count": null,
      "outputs": [
        {
          "output_type": "execute_result",
          "data": {
            "text/plain": [
              "Suburb              0\n",
              "Address             0\n",
              "Rooms               0\n",
              "Type                0\n",
              "Price               0\n",
              "Method              0\n",
              "SellerG             0\n",
              "Date                0\n",
              "Distance            0\n",
              "Postcode            0\n",
              "Bedroom2            0\n",
              "Bathroom            0\n",
              "Car                62\n",
              "Landsize            0\n",
              "BuildingArea     6450\n",
              "YearBuilt        5375\n",
              "CouncilArea      1369\n",
              "Lattitude           0\n",
              "Longtitude          0\n",
              "Regionname          0\n",
              "Propertycount       0\n",
              "dtype: int64"
            ]
          },
          "metadata": {},
          "execution_count": 12
        }
      ]
    },
    {
      "cell_type": "code",
      "source": [
        "# Removing the columns which having more number of null values \n",
        "\n",
        "melb_data.drop(['CouncilArea', 'YearBuilt', 'BuildingArea', 'Car'], axis=1, inplace=True)\n",
        "\n"
      ],
      "metadata": {
        "id": "rj2zsS3FKsQJ"
      },
      "execution_count": null,
      "outputs": []
    },
    {
      "cell_type": "code",
      "source": [
        "melb_data.shape"
      ],
      "metadata": {
        "colab": {
          "base_uri": "https://localhost:8080/"
        },
        "id": "bDV8yG7kMCe-",
        "outputId": "b8f4868f-c8de-4418-daba-d032e8fa838f"
      },
      "execution_count": null,
      "outputs": [
        {
          "output_type": "execute_result",
          "data": {
            "text/plain": [
              "(13580, 17)"
            ]
          },
          "metadata": {},
          "execution_count": 14
        }
      ]
    },
    {
      "cell_type": "code",
      "source": [
        "melb_data"
      ],
      "metadata": {
        "id": "4p44TRwMMrTQ",
        "colab": {
          "base_uri": "https://localhost:8080/",
          "height": 713
        },
        "outputId": "3d7cc75c-9c30-4625-a3f6-b00833a2e009"
      },
      "execution_count": null,
      "outputs": [
        {
          "output_type": "execute_result",
          "data": {
            "text/plain": [
              "              Suburb           Address  Rooms Type      Price Method  \\\n",
              "0         Abbotsford      85 Turner St      2    h  1480000.0      S   \n",
              "1         Abbotsford   25 Bloomburg St      2    h  1035000.0      S   \n",
              "2         Abbotsford      5 Charles St      3    h  1465000.0     SP   \n",
              "3         Abbotsford  40 Federation La      3    h   850000.0     PI   \n",
              "4         Abbotsford       55a Park St      4    h  1600000.0     VB   \n",
              "...              ...               ...    ...  ...        ...    ...   \n",
              "13575  Wheelers Hill      12 Strada Cr      4    h  1245000.0      S   \n",
              "13576   Williamstown     77 Merrett Dr      3    h  1031000.0     SP   \n",
              "13577   Williamstown       83 Power St      3    h  1170000.0      S   \n",
              "13578   Williamstown      96 Verdon St      4    h  2500000.0     PI   \n",
              "13579     Yarraville        6 Agnes St      4    h  1285000.0     SP   \n",
              "\n",
              "        SellerG        Date  Distance  Postcode  Bedroom2  Bathroom  Landsize  \\\n",
              "0        Biggin   3/12/2016       2.5    3067.0       2.0       1.0     202.0   \n",
              "1        Biggin   4/02/2016       2.5    3067.0       2.0       1.0     156.0   \n",
              "2        Biggin   4/03/2017       2.5    3067.0       3.0       2.0     134.0   \n",
              "3        Biggin   4/03/2017       2.5    3067.0       3.0       2.0      94.0   \n",
              "4        Nelson   4/06/2016       2.5    3067.0       3.0       1.0     120.0   \n",
              "...         ...         ...       ...       ...       ...       ...       ...   \n",
              "13575     Barry  26/08/2017      16.7    3150.0       4.0       2.0     652.0   \n",
              "13576  Williams  26/08/2017       6.8    3016.0       3.0       2.0     333.0   \n",
              "13577     Raine  26/08/2017       6.8    3016.0       3.0       2.0     436.0   \n",
              "13578   Sweeney  26/08/2017       6.8    3016.0       4.0       1.0     866.0   \n",
              "13579   Village  26/08/2017       6.3    3013.0       4.0       1.0     362.0   \n",
              "\n",
              "       Lattitude  Longtitude                  Regionname  Propertycount  \n",
              "0      -37.79960   144.99840       Northern Metropolitan         4019.0  \n",
              "1      -37.80790   144.99340       Northern Metropolitan         4019.0  \n",
              "2      -37.80930   144.99440       Northern Metropolitan         4019.0  \n",
              "3      -37.79690   144.99690       Northern Metropolitan         4019.0  \n",
              "4      -37.80720   144.99410       Northern Metropolitan         4019.0  \n",
              "...          ...         ...                         ...            ...  \n",
              "13575  -37.90562   145.16761  South-Eastern Metropolitan         7392.0  \n",
              "13576  -37.85927   144.87904        Western Metropolitan         6380.0  \n",
              "13577  -37.85274   144.88738        Western Metropolitan         6380.0  \n",
              "13578  -37.85908   144.89299        Western Metropolitan         6380.0  \n",
              "13579  -37.81188   144.88449        Western Metropolitan         6543.0  \n",
              "\n",
              "[13580 rows x 17 columns]"
            ],
            "text/html": [
              "\n",
              "  <div id=\"df-a73438fd-59c8-4acf-b10b-9cbbac3e8bc2\">\n",
              "    <div class=\"colab-df-container\">\n",
              "      <div>\n",
              "<style scoped>\n",
              "    .dataframe tbody tr th:only-of-type {\n",
              "        vertical-align: middle;\n",
              "    }\n",
              "\n",
              "    .dataframe tbody tr th {\n",
              "        vertical-align: top;\n",
              "    }\n",
              "\n",
              "    .dataframe thead th {\n",
              "        text-align: right;\n",
              "    }\n",
              "</style>\n",
              "<table border=\"1\" class=\"dataframe\">\n",
              "  <thead>\n",
              "    <tr style=\"text-align: right;\">\n",
              "      <th></th>\n",
              "      <th>Suburb</th>\n",
              "      <th>Address</th>\n",
              "      <th>Rooms</th>\n",
              "      <th>Type</th>\n",
              "      <th>Price</th>\n",
              "      <th>Method</th>\n",
              "      <th>SellerG</th>\n",
              "      <th>Date</th>\n",
              "      <th>Distance</th>\n",
              "      <th>Postcode</th>\n",
              "      <th>Bedroom2</th>\n",
              "      <th>Bathroom</th>\n",
              "      <th>Landsize</th>\n",
              "      <th>Lattitude</th>\n",
              "      <th>Longtitude</th>\n",
              "      <th>Regionname</th>\n",
              "      <th>Propertycount</th>\n",
              "    </tr>\n",
              "  </thead>\n",
              "  <tbody>\n",
              "    <tr>\n",
              "      <th>0</th>\n",
              "      <td>Abbotsford</td>\n",
              "      <td>85 Turner St</td>\n",
              "      <td>2</td>\n",
              "      <td>h</td>\n",
              "      <td>1480000.0</td>\n",
              "      <td>S</td>\n",
              "      <td>Biggin</td>\n",
              "      <td>3/12/2016</td>\n",
              "      <td>2.5</td>\n",
              "      <td>3067.0</td>\n",
              "      <td>2.0</td>\n",
              "      <td>1.0</td>\n",
              "      <td>202.0</td>\n",
              "      <td>-37.79960</td>\n",
              "      <td>144.99840</td>\n",
              "      <td>Northern Metropolitan</td>\n",
              "      <td>4019.0</td>\n",
              "    </tr>\n",
              "    <tr>\n",
              "      <th>1</th>\n",
              "      <td>Abbotsford</td>\n",
              "      <td>25 Bloomburg St</td>\n",
              "      <td>2</td>\n",
              "      <td>h</td>\n",
              "      <td>1035000.0</td>\n",
              "      <td>S</td>\n",
              "      <td>Biggin</td>\n",
              "      <td>4/02/2016</td>\n",
              "      <td>2.5</td>\n",
              "      <td>3067.0</td>\n",
              "      <td>2.0</td>\n",
              "      <td>1.0</td>\n",
              "      <td>156.0</td>\n",
              "      <td>-37.80790</td>\n",
              "      <td>144.99340</td>\n",
              "      <td>Northern Metropolitan</td>\n",
              "      <td>4019.0</td>\n",
              "    </tr>\n",
              "    <tr>\n",
              "      <th>2</th>\n",
              "      <td>Abbotsford</td>\n",
              "      <td>5 Charles St</td>\n",
              "      <td>3</td>\n",
              "      <td>h</td>\n",
              "      <td>1465000.0</td>\n",
              "      <td>SP</td>\n",
              "      <td>Biggin</td>\n",
              "      <td>4/03/2017</td>\n",
              "      <td>2.5</td>\n",
              "      <td>3067.0</td>\n",
              "      <td>3.0</td>\n",
              "      <td>2.0</td>\n",
              "      <td>134.0</td>\n",
              "      <td>-37.80930</td>\n",
              "      <td>144.99440</td>\n",
              "      <td>Northern Metropolitan</td>\n",
              "      <td>4019.0</td>\n",
              "    </tr>\n",
              "    <tr>\n",
              "      <th>3</th>\n",
              "      <td>Abbotsford</td>\n",
              "      <td>40 Federation La</td>\n",
              "      <td>3</td>\n",
              "      <td>h</td>\n",
              "      <td>850000.0</td>\n",
              "      <td>PI</td>\n",
              "      <td>Biggin</td>\n",
              "      <td>4/03/2017</td>\n",
              "      <td>2.5</td>\n",
              "      <td>3067.0</td>\n",
              "      <td>3.0</td>\n",
              "      <td>2.0</td>\n",
              "      <td>94.0</td>\n",
              "      <td>-37.79690</td>\n",
              "      <td>144.99690</td>\n",
              "      <td>Northern Metropolitan</td>\n",
              "      <td>4019.0</td>\n",
              "    </tr>\n",
              "    <tr>\n",
              "      <th>4</th>\n",
              "      <td>Abbotsford</td>\n",
              "      <td>55a Park St</td>\n",
              "      <td>4</td>\n",
              "      <td>h</td>\n",
              "      <td>1600000.0</td>\n",
              "      <td>VB</td>\n",
              "      <td>Nelson</td>\n",
              "      <td>4/06/2016</td>\n",
              "      <td>2.5</td>\n",
              "      <td>3067.0</td>\n",
              "      <td>3.0</td>\n",
              "      <td>1.0</td>\n",
              "      <td>120.0</td>\n",
              "      <td>-37.80720</td>\n",
              "      <td>144.99410</td>\n",
              "      <td>Northern Metropolitan</td>\n",
              "      <td>4019.0</td>\n",
              "    </tr>\n",
              "    <tr>\n",
              "      <th>...</th>\n",
              "      <td>...</td>\n",
              "      <td>...</td>\n",
              "      <td>...</td>\n",
              "      <td>...</td>\n",
              "      <td>...</td>\n",
              "      <td>...</td>\n",
              "      <td>...</td>\n",
              "      <td>...</td>\n",
              "      <td>...</td>\n",
              "      <td>...</td>\n",
              "      <td>...</td>\n",
              "      <td>...</td>\n",
              "      <td>...</td>\n",
              "      <td>...</td>\n",
              "      <td>...</td>\n",
              "      <td>...</td>\n",
              "      <td>...</td>\n",
              "    </tr>\n",
              "    <tr>\n",
              "      <th>13575</th>\n",
              "      <td>Wheelers Hill</td>\n",
              "      <td>12 Strada Cr</td>\n",
              "      <td>4</td>\n",
              "      <td>h</td>\n",
              "      <td>1245000.0</td>\n",
              "      <td>S</td>\n",
              "      <td>Barry</td>\n",
              "      <td>26/08/2017</td>\n",
              "      <td>16.7</td>\n",
              "      <td>3150.0</td>\n",
              "      <td>4.0</td>\n",
              "      <td>2.0</td>\n",
              "      <td>652.0</td>\n",
              "      <td>-37.90562</td>\n",
              "      <td>145.16761</td>\n",
              "      <td>South-Eastern Metropolitan</td>\n",
              "      <td>7392.0</td>\n",
              "    </tr>\n",
              "    <tr>\n",
              "      <th>13576</th>\n",
              "      <td>Williamstown</td>\n",
              "      <td>77 Merrett Dr</td>\n",
              "      <td>3</td>\n",
              "      <td>h</td>\n",
              "      <td>1031000.0</td>\n",
              "      <td>SP</td>\n",
              "      <td>Williams</td>\n",
              "      <td>26/08/2017</td>\n",
              "      <td>6.8</td>\n",
              "      <td>3016.0</td>\n",
              "      <td>3.0</td>\n",
              "      <td>2.0</td>\n",
              "      <td>333.0</td>\n",
              "      <td>-37.85927</td>\n",
              "      <td>144.87904</td>\n",
              "      <td>Western Metropolitan</td>\n",
              "      <td>6380.0</td>\n",
              "    </tr>\n",
              "    <tr>\n",
              "      <th>13577</th>\n",
              "      <td>Williamstown</td>\n",
              "      <td>83 Power St</td>\n",
              "      <td>3</td>\n",
              "      <td>h</td>\n",
              "      <td>1170000.0</td>\n",
              "      <td>S</td>\n",
              "      <td>Raine</td>\n",
              "      <td>26/08/2017</td>\n",
              "      <td>6.8</td>\n",
              "      <td>3016.0</td>\n",
              "      <td>3.0</td>\n",
              "      <td>2.0</td>\n",
              "      <td>436.0</td>\n",
              "      <td>-37.85274</td>\n",
              "      <td>144.88738</td>\n",
              "      <td>Western Metropolitan</td>\n",
              "      <td>6380.0</td>\n",
              "    </tr>\n",
              "    <tr>\n",
              "      <th>13578</th>\n",
              "      <td>Williamstown</td>\n",
              "      <td>96 Verdon St</td>\n",
              "      <td>4</td>\n",
              "      <td>h</td>\n",
              "      <td>2500000.0</td>\n",
              "      <td>PI</td>\n",
              "      <td>Sweeney</td>\n",
              "      <td>26/08/2017</td>\n",
              "      <td>6.8</td>\n",
              "      <td>3016.0</td>\n",
              "      <td>4.0</td>\n",
              "      <td>1.0</td>\n",
              "      <td>866.0</td>\n",
              "      <td>-37.85908</td>\n",
              "      <td>144.89299</td>\n",
              "      <td>Western Metropolitan</td>\n",
              "      <td>6380.0</td>\n",
              "    </tr>\n",
              "    <tr>\n",
              "      <th>13579</th>\n",
              "      <td>Yarraville</td>\n",
              "      <td>6 Agnes St</td>\n",
              "      <td>4</td>\n",
              "      <td>h</td>\n",
              "      <td>1285000.0</td>\n",
              "      <td>SP</td>\n",
              "      <td>Village</td>\n",
              "      <td>26/08/2017</td>\n",
              "      <td>6.3</td>\n",
              "      <td>3013.0</td>\n",
              "      <td>4.0</td>\n",
              "      <td>1.0</td>\n",
              "      <td>362.0</td>\n",
              "      <td>-37.81188</td>\n",
              "      <td>144.88449</td>\n",
              "      <td>Western Metropolitan</td>\n",
              "      <td>6543.0</td>\n",
              "    </tr>\n",
              "  </tbody>\n",
              "</table>\n",
              "<p>13580 rows × 17 columns</p>\n",
              "</div>\n",
              "      <button class=\"colab-df-convert\" onclick=\"convertToInteractive('df-a73438fd-59c8-4acf-b10b-9cbbac3e8bc2')\"\n",
              "              title=\"Convert this dataframe to an interactive table.\"\n",
              "              style=\"display:none;\">\n",
              "        \n",
              "  <svg xmlns=\"http://www.w3.org/2000/svg\" height=\"24px\"viewBox=\"0 0 24 24\"\n",
              "       width=\"24px\">\n",
              "    <path d=\"M0 0h24v24H0V0z\" fill=\"none\"/>\n",
              "    <path d=\"M18.56 5.44l.94 2.06.94-2.06 2.06-.94-2.06-.94-.94-2.06-.94 2.06-2.06.94zm-11 1L8.5 8.5l.94-2.06 2.06-.94-2.06-.94L8.5 2.5l-.94 2.06-2.06.94zm10 10l.94 2.06.94-2.06 2.06-.94-2.06-.94-.94-2.06-.94 2.06-2.06.94z\"/><path d=\"M17.41 7.96l-1.37-1.37c-.4-.4-.92-.59-1.43-.59-.52 0-1.04.2-1.43.59L10.3 9.45l-7.72 7.72c-.78.78-.78 2.05 0 2.83L4 21.41c.39.39.9.59 1.41.59.51 0 1.02-.2 1.41-.59l7.78-7.78 2.81-2.81c.8-.78.8-2.07 0-2.86zM5.41 20L4 18.59l7.72-7.72 1.47 1.35L5.41 20z\"/>\n",
              "  </svg>\n",
              "      </button>\n",
              "      \n",
              "  <style>\n",
              "    .colab-df-container {\n",
              "      display:flex;\n",
              "      flex-wrap:wrap;\n",
              "      gap: 12px;\n",
              "    }\n",
              "\n",
              "    .colab-df-convert {\n",
              "      background-color: #E8F0FE;\n",
              "      border: none;\n",
              "      border-radius: 50%;\n",
              "      cursor: pointer;\n",
              "      display: none;\n",
              "      fill: #1967D2;\n",
              "      height: 32px;\n",
              "      padding: 0 0 0 0;\n",
              "      width: 32px;\n",
              "    }\n",
              "\n",
              "    .colab-df-convert:hover {\n",
              "      background-color: #E2EBFA;\n",
              "      box-shadow: 0px 1px 2px rgba(60, 64, 67, 0.3), 0px 1px 3px 1px rgba(60, 64, 67, 0.15);\n",
              "      fill: #174EA6;\n",
              "    }\n",
              "\n",
              "    [theme=dark] .colab-df-convert {\n",
              "      background-color: #3B4455;\n",
              "      fill: #D2E3FC;\n",
              "    }\n",
              "\n",
              "    [theme=dark] .colab-df-convert:hover {\n",
              "      background-color: #434B5C;\n",
              "      box-shadow: 0px 1px 3px 1px rgba(0, 0, 0, 0.15);\n",
              "      filter: drop-shadow(0px 1px 2px rgba(0, 0, 0, 0.3));\n",
              "      fill: #FFFFFF;\n",
              "    }\n",
              "  </style>\n",
              "\n",
              "      <script>\n",
              "        const buttonEl =\n",
              "          document.querySelector('#df-a73438fd-59c8-4acf-b10b-9cbbac3e8bc2 button.colab-df-convert');\n",
              "        buttonEl.style.display =\n",
              "          google.colab.kernel.accessAllowed ? 'block' : 'none';\n",
              "\n",
              "        async function convertToInteractive(key) {\n",
              "          const element = document.querySelector('#df-a73438fd-59c8-4acf-b10b-9cbbac3e8bc2');\n",
              "          const dataTable =\n",
              "            await google.colab.kernel.invokeFunction('convertToInteractive',\n",
              "                                                     [key], {});\n",
              "          if (!dataTable) return;\n",
              "\n",
              "          const docLinkHtml = 'Like what you see? Visit the ' +\n",
              "            '<a target=\"_blank\" href=https://colab.research.google.com/notebooks/data_table.ipynb>data table notebook</a>'\n",
              "            + ' to learn more about interactive tables.';\n",
              "          element.innerHTML = '';\n",
              "          dataTable['output_type'] = 'display_data';\n",
              "          await google.colab.output.renderOutput(dataTable, element);\n",
              "          const docLink = document.createElement('div');\n",
              "          docLink.innerHTML = docLinkHtml;\n",
              "          element.appendChild(docLink);\n",
              "        }\n",
              "      </script>\n",
              "    </div>\n",
              "  </div>\n",
              "  "
            ]
          },
          "metadata": {},
          "execution_count": 15
        }
      ]
    },
    {
      "cell_type": "code",
      "source": [
        "melb_data.isnull().sum().sum()"
      ],
      "metadata": {
        "colab": {
          "base_uri": "https://localhost:8080/"
        },
        "id": "5YA9Zq7GQGDC",
        "outputId": "08475ba3-ae5c-4819-be9b-035063f28e62"
      },
      "execution_count": null,
      "outputs": [
        {
          "output_type": "execute_result",
          "data": {
            "text/plain": [
              "0"
            ]
          },
          "metadata": {},
          "execution_count": 16
        }
      ]
    },
    {
      "cell_type": "code",
      "source": [
        "# checking for the duplicate values\n",
        "\n",
        "melb_data.duplicated().sum()"
      ],
      "metadata": {
        "colab": {
          "base_uri": "https://localhost:8080/"
        },
        "id": "K6bMVpO4Qj8p",
        "outputId": "9f190f4b-19c4-43a6-ee2d-d78cb17f0469"
      },
      "execution_count": null,
      "outputs": [
        {
          "output_type": "execute_result",
          "data": {
            "text/plain": [
              "0"
            ]
          },
          "metadata": {},
          "execution_count": 17
        }
      ]
    },
    {
      "cell_type": "code",
      "source": [
        "melb_data.columns"
      ],
      "metadata": {
        "colab": {
          "base_uri": "https://localhost:8080/"
        },
        "id": "TjI_NUBvh7zy",
        "outputId": "b482d89c-33cd-49d7-8c19-470c16b381ab"
      },
      "execution_count": null,
      "outputs": [
        {
          "output_type": "execute_result",
          "data": {
            "text/plain": [
              "Index(['Suburb', 'Address', 'Rooms', 'Type', 'Price', 'Method', 'SellerG',\n",
              "       'Date', 'Distance', 'Postcode', 'Bedroom2', 'Bathroom', 'Landsize',\n",
              "       'Lattitude', 'Longtitude', 'Regionname', 'Propertycount'],\n",
              "      dtype='object')"
            ]
          },
          "metadata": {},
          "execution_count": 18
        }
      ]
    },
    {
      "cell_type": "code",
      "source": [
        "melb_data.dtypes"
      ],
      "metadata": {
        "colab": {
          "base_uri": "https://localhost:8080/"
        },
        "id": "GcnWEShNhSFU",
        "outputId": "b79be52a-0091-4794-a90c-5fde563e6396"
      },
      "execution_count": null,
      "outputs": [
        {
          "output_type": "execute_result",
          "data": {
            "text/plain": [
              "Suburb            object\n",
              "Address           object\n",
              "Rooms              int64\n",
              "Type              object\n",
              "Price            float64\n",
              "Method            object\n",
              "SellerG           object\n",
              "Date              object\n",
              "Distance         float64\n",
              "Postcode         float64\n",
              "Bedroom2         float64\n",
              "Bathroom         float64\n",
              "Landsize         float64\n",
              "Lattitude        float64\n",
              "Longtitude       float64\n",
              "Regionname        object\n",
              "Propertycount    float64\n",
              "dtype: object"
            ]
          },
          "metadata": {},
          "execution_count": 19
        }
      ]
    },
    {
      "cell_type": "code",
      "source": [
        "columns=['Rooms', 'Price', 'Distance', 'Postcode', 'Bedroom2', 'Bathroom', 'Landsize', 'Lattitude', 'Longtitude', 'Propertycount']\n",
        "columns"
      ],
      "metadata": {
        "colab": {
          "base_uri": "https://localhost:8080/"
        },
        "id": "6EtWCdAAZnxI",
        "outputId": "afdee232-8f6a-4970-b0b9-3ce68ded38d5"
      },
      "execution_count": null,
      "outputs": [
        {
          "output_type": "execute_result",
          "data": {
            "text/plain": [
              "['Rooms',\n",
              " 'Price',\n",
              " 'Distance',\n",
              " 'Postcode',\n",
              " 'Bedroom2',\n",
              " 'Bathroom',\n",
              " 'Landsize',\n",
              " 'Lattitude',\n",
              " 'Longtitude',\n",
              " 'Propertycount']"
            ]
          },
          "metadata": {},
          "execution_count": 20
        }
      ]
    },
    {
      "cell_type": "code",
      "source": [],
      "metadata": {
        "id": "YVg_VtZ9ggKK"
      },
      "execution_count": null,
      "outputs": []
    },
    {
      "cell_type": "code",
      "source": [
        "\n"
      ],
      "metadata": {
        "id": "ScI9PnA4RLV5"
      },
      "execution_count": null,
      "outputs": []
    },
    {
      "cell_type": "code",
      "source": [],
      "metadata": {
        "id": "NVqBZRNjZF4R"
      },
      "execution_count": null,
      "outputs": []
    },
    {
      "cell_type": "code",
      "source": [
        "# check for the outliers \n",
        "\n",
        "for col in columns:\n",
        "    print(col)\n",
        "    bp=plt.boxplot(melb_data[col], showcaps=True)\n",
        "    print(bp.keys())\n",
        "    for key in bp:\n",
        "        print(f'{key}: {[item.get_ydata() for item in bp[key]]}\\n')\n",
        "    plt.show()\n",
        "    print('***'*30)"
      ],
      "metadata": {
        "colab": {
          "base_uri": "https://localhost:8080/",
          "height": 1000
        },
        "id": "qd6n1XWferJf",
        "outputId": "ceb1735b-348e-4fd6-ef33-fc77d9afd278"
      },
      "execution_count": null,
      "outputs": [
        {
          "output_type": "stream",
          "name": "stdout",
          "text": [
            "Rooms\n",
            "dict_keys(['whiskers', 'caps', 'boxes', 'medians', 'fliers', 'means'])\n",
            "whiskers: [array([2., 1.]), array([3., 4.])]\n",
            "\n",
            "caps: [array([1., 1.]), array([4., 4.])]\n",
            "\n",
            "boxes: [array([2., 2., 3., 3., 2.])]\n",
            "\n",
            "medians: [array([3., 3.])]\n",
            "\n",
            "fliers: [array([ 6,  5,  5,  5,  5,  5,  5,  6,  5,  6,  6,  5,  8,  5,  5,  5,  5,\n",
            "        5,  5,  5,  6,  5,  5,  5,  5,  5,  5,  5,  5,  5,  5,  5,  5,  5,\n",
            "        7,  5,  5,  6,  5,  5,  5,  5,  5,  7,  5,  5,  5,  6,  5,  6,  5,\n",
            "        5,  5,  5,  5,  5,  7,  5,  5,  6,  5,  5,  5,  5,  5,  5,  5,  6,\n",
            "        5,  5,  5,  5,  5,  5,  5,  5,  5,  5,  5,  5,  5,  5,  5,  5,  5,\n",
            "        5,  5,  5,  5,  5,  5,  5,  5,  5,  7,  5,  5,  5,  5,  5,  5,  5,\n",
            "        5,  5,  5,  5,  5,  5,  5,  5,  5,  5,  5,  5,  5,  5,  5,  5,  5,\n",
            "        5,  8,  5,  6,  5,  5,  5,  5,  5,  5,  5,  5,  5,  5,  5,  5,  6,\n",
            "        5,  5,  5,  6,  5,  5,  5,  5,  5,  6,  6,  5,  5,  5,  5,  5,  5,\n",
            "        5,  5,  5,  5,  5,  5,  5,  5,  5,  5,  5,  5,  5,  5,  5,  5,  5,\n",
            "        5,  5,  5,  5,  5,  5,  5,  5,  5,  8,  5,  5,  5,  5,  5,  5,  5,\n",
            "        5,  5,  5,  5,  5,  5,  6,  5,  5,  5,  5,  5,  5,  5,  5,  5,  5,\n",
            "        6,  5,  5,  5,  5,  5,  5,  5,  5,  5,  5,  5,  5,  5,  5,  5,  5,\n",
            "        5,  5,  6,  5,  6,  5,  5,  5,  5,  5,  5,  5,  5,  5,  8,  5,  6,\n",
            "        5,  5,  5,  5,  5,  5,  5,  5,  6,  5,  5,  6,  5,  5,  5,  5,  5,\n",
            "        5,  5,  5,  5,  5,  6,  5,  5,  5,  5,  5,  5,  5,  5,  5,  5,  5,\n",
            "        5,  5,  5,  5,  5,  5,  5,  5,  5,  5,  5,  5,  6,  5,  6,  5,  8,\n",
            "        5,  5,  5,  5,  5,  5,  5,  5,  5,  5,  5,  5,  5,  5,  5,  7,  5,\n",
            "        5,  5,  5,  5,  5,  6,  5,  5,  5,  5,  5,  5,  5,  6,  6,  5,  5,\n",
            "        5,  5,  5,  5,  5,  5,  6,  5,  6,  5,  5,  5,  5,  8,  5,  5,  5,\n",
            "        6,  5,  5,  5,  5,  6,  5,  5,  5,  5,  5,  5,  5,  5,  5,  5,  5,\n",
            "        5,  5,  5,  5,  5,  5,  5,  5,  5,  5,  5,  5,  5,  5,  5,  5,  5,\n",
            "        5,  5,  5,  5,  5,  5,  5,  5,  6,  5,  5,  5,  5,  6,  7,  5,  5,\n",
            "        6,  5,  5,  5,  5,  5,  5,  6,  5,  5,  5,  5,  6,  5,  5,  5,  6,\n",
            "        5,  5,  5,  5,  5,  5,  5,  5,  5,  5,  6,  5,  5,  5,  5,  5,  5,\n",
            "        5,  5,  5,  5,  5,  5,  6,  6,  5,  5,  5,  5,  5,  5,  5,  5,  6,\n",
            "        6,  5,  5,  5,  5,  5,  5,  5,  5,  5,  6,  5,  5,  5,  5,  5,  5,\n",
            "        5,  5,  5,  5,  5,  5,  5,  6,  5,  5,  6,  5,  5,  5,  5,  7,  5,\n",
            "        6,  5,  6,  6,  5,  5,  5,  5,  5,  5,  5,  5,  5,  5,  5,  6,  5,\n",
            "        5,  5,  5,  5,  5,  5,  5,  5,  5,  8,  5,  5,  5,  5,  5,  5,  5,\n",
            "        5,  5,  5,  5,  5,  5,  6,  5,  5,  5,  5,  5,  5,  5,  7,  5,  5,\n",
            "        5,  5,  5,  5,  6,  7,  5,  5,  5,  5,  5,  5,  6,  5, 10,  5,  6,\n",
            "        5,  5,  5,  5,  5,  5,  5,  5,  5,  5,  6,  5,  5,  5,  5,  5,  5,\n",
            "        5,  5,  5,  5,  5,  5,  5,  5,  5,  6,  5,  5,  5,  5,  5,  5,  7,\n",
            "        5,  6,  5,  5,  6,  5,  5,  5,  5,  5,  5,  5,  5,  5,  5,  5,  5,\n",
            "        5,  5,  5,  5,  5,  5,  5,  5,  5,  5,  5,  6,  6,  5,  5,  5,  5,\n",
            "        6,  5,  5,  6,  5,  5,  5,  5,  5,  5,  5,  5,  5,  6,  5,  5,  5,\n",
            "        5,  5,  6,  5,  5,  5,  5,  5,  5,  5,  5,  5,  5,  5,  5,  5,  5,\n",
            "        5,  5,  5,  5,  5,  6,  8,  5,  5,  5,  5,  5,  5,  5,  5,  5,  5,\n",
            "        5,  5,  5,  5,  5,  5,  5,  5,  5,  5,  5,  6,  5,  5,  5,  5,  6,\n",
            "        5,  5])]\n",
            "\n",
            "means: []\n",
            "\n"
          ]
        },
        {
          "output_type": "display_data",
          "data": {
            "text/plain": [
              "<Figure size 432x288 with 1 Axes>"
            ],
            "image/png": "[encoded data removed]"
          },
          "metadata": {
            "needs_background": "light"
          }
        },
        {
          "output_type": "stream",
          "name": "stdout",
          "text": [
            "******************************************************************************************\n",
            "Price\n",
            "dict_keys(['whiskers', 'caps', 'boxes', 'medians', 'fliers', 'means'])\n",
            "whiskers: [array([650000.,  85000.]), array([1330000., 2350000.])]\n",
            "\n",
            "caps: [array([85000., 85000.]), array([2350000., 2350000.])]\n",
            "\n",
            "boxes: [array([ 650000.,  650000., 1330000., 1330000.,  650000.])]\n",
            "\n",
            "medians: [array([903000., 903000.])]\n",
            "\n",
            "fliers: [array([2850000., 2615000., 2575000., 3010000., 2800000., 4735000.,\n",
            "       3755000., 2800000., 2840000., 3625000., 3000000., 2801000.,\n",
            "       5525000., 2360000., 2365000., 3660000., 3625000., 4200000.,\n",
            "       3512500., 2810000., 2425000., 2650000., 2950000., 3510000.,\n",
            "       2752000., 2570000., 2400000., 3250000., 4000000., 2800000.,\n",
            "       3180000., 3600000., 2550000., 3270000., 2730000., 3000000.,\n",
            "       3400000., 2900000., 3290000., 2665000., 2410000., 2810000.,\n",
            "       3401000., 4000000., 3020000., 2950000., 2450000., 3900000.,\n",
            "       3230000., 3300000., 2614000., 2550000., 3250000., 3690000.,\n",
            "       2575000., 2910000., 2600000., 3000000., 2525000., 3360000.,\n",
            "       4000000., 2900000., 2700000., 2435000., 2520000., 2620000.,\n",
            "       2770000., 4000000., 3695000., 3700000., 3775000., 4250000.,\n",
            "       2905000., 2910000., 2700000., 2600000., 2750000., 3171000.,\n",
            "       2400000., 3180000., 3320000., 2800000., 4700000., 2400000.,\n",
            "       2730000., 3295888., 2375000., 2450000., 2517500., 2800000.,\n",
            "       3700000., 2475000., 2700000., 3900000., 2375000., 3050000.,\n",
            "       2640000., 2900000., 3550000., 2750000., 3751000., 2405000.,\n",
            "       3105000., 2504000., 2900000., 2840000., 2500000., 3207000.,\n",
            "       2570000., 2550000., 2550000., 2820000., 2500000., 2650000.,\n",
            "       3225000., 2600000., 2860000., 2950000., 2600000., 2608000.,\n",
            "       2700000., 4760000., 3400000., 3300000., 2800000., 3225000.,\n",
            "       3320000., 2750000., 2740000., 2950000., 2375000., 2900000.,\n",
            "       2620000., 4350000., 2930000., 2950000., 3800000., 3550000.,\n",
            "       3400000., 3145000., 2950000., 2718000., 2400000., 2520000.,\n",
            "       2830000., 2625000., 3010000., 2850000., 2600000., 2550000.,\n",
            "       2600000., 3000000., 2806000., 2600000., 3572000., 2400000.,\n",
            "       2390000., 2800000., 2620000., 2355000., 3310000., 4011000.,\n",
            "       2875000., 3400000., 3400000., 3730000., 3110000., 2538000.,\n",
            "       3500000., 2850000., 2975000., 2376000., 2825000., 2825000.,\n",
            "       3085000., 2352500., 3860000., 2625000., 3010000., 2725000.,\n",
            "       2800000., 2410000., 2950000., 3365000., 2400000., 2800000.,\n",
            "       3250000., 2520000., 3200000., 2420000., 2880000., 2600000.,\n",
            "       2400000., 3470000., 2400000., 3075000., 3201000., 2600000.,\n",
            "       2980000., 3325000., 2800000., 2450000., 2439500., 5100000.,\n",
            "       2670000., 2610000., 2920000., 3225000., 3950000., 4250000.,\n",
            "       3500000., 5050000., 2410000., 2375000., 3750000., 3120000.,\n",
            "       2400000., 2600000., 2595000., 4800000., 4350000., 3550000.,\n",
            "       2850000., 2550000., 4850000., 2770000., 6500000., 2513000.,\n",
            "       2590000., 2625000., 2550000., 3650000., 2800000., 2450000.,\n",
            "       2460000., 2850000., 2425000., 2875000., 2560000., 2600000.,\n",
            "       3280000., 4005000., 2600000., 2800000., 3065000., 2490000.,\n",
            "       3028000., 3460000., 2400000., 3800000., 4700000., 2415000.,\n",
            "       3010000., 3400000., 2355000., 4240000., 4525000., 3470000.,\n",
            "       2400000., 2355000., 4802500., 2800000., 2500000., 2960000.,\n",
            "       2412000., 2560000., 2490000., 2600000., 2956000., 2360000.,\n",
            "       3120000., 2623000., 2850000., 2588000., 2714000., 3900000.,\n",
            "       2400000., 2405000., 2415000., 3420000., 2920000., 2700000.,\n",
            "       4300000., 3850000., 2375000., 2460000., 3705000., 2385000.,\n",
            "       3335000., 3200000., 3020000., 3001000., 2640000., 2530000.,\n",
            "       2633000., 2525000., 2430000., 5700000., 2695000., 2870000.,\n",
            "       3000000., 2600000., 2395000., 2667000., 2400000., 2455000.,\n",
            "       2720000., 5046000., 4400000., 4750000., 2650000., 2440000.,\n",
            "       2500000., 2860000., 2630000., 2450000., 2760000., 5500000.,\n",
            "       5500000., 4000000., 2400000., 2650000., 2820000., 2840000.,\n",
            "       2700000., 4000000., 6250000., 4500000., 2620000., 4000000.,\n",
            "       4200000., 3260000., 3270000., 2370000., 2910000., 2910000.,\n",
            "       2640000., 3130000., 2440000., 2368000., 3900000., 2400000.,\n",
            "       2705000., 4525000., 3520000., 3350000., 3100000., 3050000.,\n",
            "       2800000., 2381000., 2920000., 3210000., 3310000., 3500000.,\n",
            "       2450000., 2450000., 3020000., 2775000., 2500000., 3850000.,\n",
            "       2575000., 2810000., 2950000., 2575000., 2900000., 5800000.,\n",
            "       4225000., 2445000., 2415000., 3025000., 2550000., 2570000.,\n",
            "       2513000., 3550000., 5020000., 2990000., 3115000., 2510000.,\n",
            "       8000000., 3725000., 3450000., 2450000., 2555000., 3310000.,\n",
            "       2513000., 2500000., 3750000., 3600000., 2425000., 3020000.,\n",
            "       2400000., 3800000., 2600000., 4515000., 3160000., 2425000.,\n",
            "       3200000., 2365000., 2990000., 2525000., 3970000., 2790000.,\n",
            "       2400000., 2700000., 3000000., 3475000., 2360000., 2370000.,\n",
            "       2710000., 4275000., 2725000., 2860000., 2400000., 3600000.,\n",
            "       5200000., 2650000., 3250000., 2705000., 2900000., 2450000.,\n",
            "       2800000., 2905000., 2500000., 2385000., 2405000., 3100000.,\n",
            "       2520000., 3050000., 2600000., 5510000., 3335000., 2525000.,\n",
            "       4900000., 5600000., 2400000., 2760000., 2750000., 3200000.,\n",
            "       2380000., 3050000., 2444000., 2700000., 2361000., 3056000.,\n",
            "       2650000., 7650000., 2855000., 3255000., 3175000., 2520000.,\n",
            "       2500000., 2500000., 3200000., 2655000., 3275000., 2720000.,\n",
            "       2525000., 2400000., 2862000., 2450000., 3150000., 2370000.,\n",
            "       2380000., 3001000., 3600000., 2905000., 2367000., 3225000.,\n",
            "       2385000., 2545000., 2408000., 4750000., 2620000., 2920000.,\n",
            "       2905000., 2550000., 2800000., 2402500., 3399000., 3900000.,\n",
            "       2680000., 2425000., 3200500., 2775000., 2400000., 3750000.,\n",
            "       4100000., 2920000., 2505000., 3560000., 2360000., 3000000.,\n",
            "       4050000., 3190000., 2725000., 3250000., 3175000., 2700000.,\n",
            "       3200000., 3400000., 2825000., 2400000., 2660000., 4050000.,\n",
            "       2550000., 4050000., 3000000., 2500000., 2500000., 2558000.,\n",
            "       2775000., 2635000., 4200000., 3350000., 3825000., 2400000.,\n",
            "       2600000., 2800000., 2800000., 2400000., 2400000., 2668000.,\n",
            "       2550000., 3812000., 2400000., 2500000., 3300000., 2530000.,\n",
            "       3015000., 9000000., 2730000., 2450000., 5100000., 2650000.,\n",
            "       2831000., 5500000., 2515000., 4060000., 2825000., 2675000.,\n",
            "       3060000., 2625000., 2368000., 2750000., 3130000., 3000000.,\n",
            "       3200000., 2710000., 2525000., 6400000., 2700000., 3625000.,\n",
            "       2730000., 3778000., 2410000., 2835000., 2770000., 2450000.,\n",
            "       2950000., 2515000., 2550000., 2375000., 5065000., 2750000.,\n",
            "       3400000., 2500000., 2420000., 2550000., 2562000., 2400000.,\n",
            "       2600000., 3100000., 2770000., 2550000., 2450000., 2410000.,\n",
            "       2478000., 2500000., 2585000., 4000000., 2567500., 2550000.,\n",
            "       3000000., 2580000., 2750000., 2850000., 2800000., 2450000.,\n",
            "       2500000., 3600000., 2450000., 2600000., 2500000., 2680000.,\n",
            "       4060000., 2550000., 3000000., 2800000., 3200000., 2830000.,\n",
            "       2385000., 2690000., 3300000., 3450000., 3080000., 3400000.,\n",
            "       2475000., 2455000., 2668000., 2720000., 3100000., 2500000.])]\n",
            "\n",
            "means: []\n",
            "\n"
          ]
        },
        {
          "output_type": "display_data",
          "data": {
            "text/plain": [
              "<Figure size 432x288 with 1 Axes>"
            ],
            "image/png": "[encoded data removed]"
          },
          "metadata": {
            "needs_background": "light"
          }
        },
        {
          "output_type": "stream",
          "name": "stdout",
          "text": [
            "******************************************************************************************\n",
            "Distance\n",
            "dict_keys(['whiskers', 'caps', 'boxes', 'medians', 'fliers', 'means'])\n",
            "whiskers: [array([6.1, 0. ]), array([13. , 23.3])]\n",
            "\n",
            "caps: [array([0., 0.]), array([23.3, 23.3])]\n",
            "\n",
            "boxes: [array([ 6.1,  6.1, 13. , 13. ,  6.1])]\n",
            "\n",
            "medians: [array([9.2, 9.2])]\n",
            "\n",
            "fliers: [array([35.2, 25. , 34.7, 24.7, 24.7, 24.7, 25.9, 38. , 36.9, 38. , 45.9,\n",
            "       32.3, 45.2, 25.2, 25.2, 31.7, 31.7, 25.9, 25.9, 34.1, 34.1, 23.8,\n",
            "       23.5, 35.4, 34.7, 31.7, 31.7, 31.7, 27. , 25.5, 25.5, 27.2, 27. ,\n",
            "       25. , 25. , 25. , 25. , 31.2, 31.2, 31.2, 31.2, 27. , 27. , 24.7,\n",
            "       24.7, 24.7, 28.8, 24.8, 24.8, 38. , 36.9, 32.3, 25.2, 31.7, 29.8,\n",
            "       31.7, 26.5, 26.5, 23.5, 35.4, 31.7, 31.7, 35.2, 34.9, 34.9, 24.7,\n",
            "       24.7, 24.8, 45.9, 32.3, 41. , 31.7, 29.8, 25.9, 25.9, 26.5, 26.5,\n",
            "       23.5, 23.5, 35.4, 34.7, 31.7, 39.8, 35.2, 31.2, 27. , 24.7, 38. ,\n",
            "       38. , 38. , 38. , 25.2, 31.7, 29.8, 29.8, 31.6, 34.1, 47.3, 47.4,\n",
            "       23.5, 34.7, 35.4, 34.6, 31.7, 35.2, 35.2, 34.9, 27.1, 24.7, 24.7,\n",
            "       27.7, 27. , 27. , 24.8, 24.8, 38. , 38. , 38. , 38. , 33.3, 25.2,\n",
            "       31.7, 29.8, 31.7, 35.4, 34.6, 31.7, 29.3, 25.5, 37.5, 35.2, 35.2,\n",
            "       25. , 25. , 34.9, 34.7, 24.7, 24.7, 24.7, 27. , 24.8, 24.8, 38. ,\n",
            "       38. , 32.3, 33.3, 33.3, 26. , 31.7, 31.7, 29.8, 28.8, 26.5, 23.5,\n",
            "       23.5, 35.4, 31.7, 31.7, 31.7, 27. , 27.2, 35.2, 25. , 45.9, 31.2,\n",
            "       34.9, 27.1, 34.7, 24.7, 24.7, 27.7, 24.8, 38. , 38. , 45.9, 26.1,\n",
            "       25.2, 31.7, 41. , 31.7, 25.9, 26.5, 34.1, 23.5, 27. , 25.2, 27.2,\n",
            "       25. , 25. , 31.2, 34.9, 24.7, 24.7, 24.7, 28.8, 28.5, 24.8, 24.8,\n",
            "       38. , 38. , 45.9, 45.9, 25.2, 29.8, 29.8, 29.8, 25.9, 26.5, 26.5,\n",
            "       34.1, 34.1, 43.3, 47.3, 23.5, 23.5, 35.4, 35.4, 35.4, 35.4, 25.5,\n",
            "       39. , 35.2, 35.2, 31.2, 27. , 24.7, 24.7, 24.7, 24.7, 28.8, 27. ,\n",
            "       24.8, 38. , 38. , 31.7, 31.7, 41. , 41. , 29.8, 29.8, 29.8, 29.8,\n",
            "       31.7, 47.3, 31.7, 31.7, 25.5, 31.4, 39. , 35.2, 25. , 25. , 29.8,\n",
            "       31.2, 34.9, 27. , 27. , 34.7, 24.7, 25.9, 25.9, 28.8, 28.8, 27. ,\n",
            "       36.9, 28.5, 28.5, 28.5, 28.5, 24.8, 24.8, 24.8, 38. , 38. , 38. ,\n",
            "       36.9, 38. , 25.2, 25.2, 31.7, 41. , 29.8, 29.8, 31.7, 26.5, 35.4,\n",
            "       35.4, 31.7, 31.7, 31.7, 31.7, 35.5, 25.5, 35.2, 24.7, 24.7, 24.7,\n",
            "       25.9, 24.8, 38. , 38. , 38. , 38. , 31.7, 31.7, 31.7, 31.7, 31.7,\n",
            "       31.7, 31.7, 25.9, 24.8, 24.8, 38. , 38. , 45.9, 45.9, 26.1, 29.8,\n",
            "       25.9, 26.5, 35.4, 31.7, 31.7, 31.7, 25.5, 25.5, 27. , 25. , 34.9,\n",
            "       34.9, 27. , 24.7, 28.8, 28.8, 38. , 38. , 38. , 45.9, 32.3, 34.1,\n",
            "       31.7, 31.7, 31.7, 44.2, 27. , 27. , 24.8, 24.8, 38. , 38. , 26. ,\n",
            "       26. , 29.8, 25.9, 25.9, 31.6, 31.7, 31.7, 27.2, 35.2, 27. , 25.9,\n",
            "       27. , 27. , 24.8, 24.8, 38. , 38. , 25.2, 31.7, 31.7, 31.7, 26.5,\n",
            "       48.1, 23.8, 31.7, 31.7, 31.7, 31.7, 31.7, 27. , 25.5, 27. , 25. ,\n",
            "       34.9, 34.9, 34.9, 27. , 34.7, 24.7, 27. , 24.8, 38. , 36.9, 38. ,\n",
            "       38. , 38. , 33.3, 25.2, 26. , 41. , 31.7, 29.8, 34.1, 26.5, 35.4,\n",
            "       31.7, 31.7, 31.7, 31.7])]\n",
            "\n",
            "means: []\n",
            "\n"
          ]
        },
        {
          "output_type": "display_data",
          "data": {
            "text/plain": [
              "<Figure size 432x288 with 1 Axes>"
            ],
            "image/png": "[encoded data removed]"
          },
          "metadata": {
            "needs_background": "light"
          }
        },
        {
          "output_type": "stream",
          "name": "stdout",
          "text": [
            "******************************************************************************************\n",
            "Postcode\n",
            "dict_keys(['whiskers', 'caps', 'boxes', 'medians', 'fliers', 'means'])\n",
            "whiskers: [array([3044., 3000.]), array([3148., 3207.])]\n",
            "\n",
            "caps: [array([3000., 3000.]), array([3207., 3207.])]\n",
            "\n",
            "boxes: [array([3044., 3044., 3148., 3148., 3044.])]\n",
            "\n",
            "medians: [array([3084., 3084.])]\n",
            "\n",
            "fliers: [array([3806., 3977., 3754., 3437., 3803., 3777., 3337., 3337., 3754.,\n",
            "       3754., 3805., 3805., 3335., 3977., 3752., 3752., 3429., 3429.,\n",
            "       3429., 3750., 3750., 3803., 3337., 3338., 3337., 3752., 3752.,\n",
            "       3752., 3429., 3429., 3806., 3437., 3803., 3910., 3337., 3338.,\n",
            "       3754., 3754., 3977., 3429., 3808., 3806., 3337., 3338., 3338.,\n",
            "       3796., 3805., 3810., 3431., 3977., 3795., 3429., 3806., 3806.,\n",
            "       3427., 3976., 3337., 3338., 3337., 3795., 3429., 3750., 3340.,\n",
            "       3806., 3806., 3977., 3803., 3976., 3976., 3337., 3337., 3338.,\n",
            "       3765., 3752., 3752., 3752., 3752., 3429., 3429., 3429., 3806.,\n",
            "       3437., 3977., 3427., 3437., 3337., 3910., 3337., 3754., 3805.,\n",
            "       3752., 3802., 3437., 3437., 3338., 3338., 3338., 3754., 3805.,\n",
            "       3805., 3809., 3810., 3752., 3750., 3807., 3806., 3806., 3337.,\n",
            "       3337., 3910., 3910., 3338., 3338., 3338., 3338., 3337., 3810.,\n",
            "       3752., 3752., 3752., 3752., 3429., 3429., 3750., 3775., 3807.,\n",
            "       3806., 3338., 3977., 3754., 3754., 3782., 3802., 3802., 3802.,\n",
            "       3802., 3337., 3910., 3338., 3338., 3337., 3752., 3752., 3752.,\n",
            "       3429., 3429., 3429., 3429., 3757., 3750., 3806., 3754., 3337.,\n",
            "       3337., 3337., 3429., 3429., 3429., 3429., 3754., 3437., 3437.,\n",
            "       3338., 3754., 3752., 3429., 3429., 3429., 3750., 3750., 3437.,\n",
            "       3803., 3805., 3429., 3429., 3429., 3756., 3338., 3754., 3754.,\n",
            "       3796., 3752., 3429., 3429., 3806., 3754., 3337., 3337., 3337.,\n",
            "       3438., 3335., 3752., 3429., 3429., 3429., 3429., 3429., 3750.,\n",
            "       3977., 3976., 3910., 3337., 3338., 3793., 3429., 3429., 3429.,\n",
            "       3429.])]\n",
            "\n",
            "means: []\n",
            "\n"
          ]
        },
        {
          "output_type": "display_data",
          "data": {
            "text/plain": [
              "<Figure size 432x288 with 1 Axes>"
            ],
            "image/png": "[encoded data removed]"
          },
          "metadata": {
            "needs_background": "light"
          }
        },
        {
          "output_type": "stream",
          "name": "stdout",
          "text": [
            "******************************************************************************************\n",
            "Bedroom2\n",
            "dict_keys(['whiskers', 'caps', 'boxes', 'medians', 'fliers', 'means'])\n",
            "whiskers: [array([2., 1.]), array([3., 4.])]\n",
            "\n",
            "caps: [array([1., 1.]), array([4., 4.])]\n",
            "\n",
            "boxes: [array([2., 2., 3., 3., 2.])]\n",
            "\n",
            "medians: [array([3., 3.])]\n",
            "\n",
            "fliers: [array([ 0.,  0.,  0.,  0.,  0.,  0.,  0.,  0.,  0.,  0.,  0.,  0.,  0.,\n",
            "        0.,  0.,  0.,  6.,  5.,  5.,  5.,  5.,  5.,  5.,  8.,  5.,  5.,\n",
            "        6.,  5.,  9.,  5.,  6.,  5.,  5.,  5.,  5.,  5.,  6.,  5.,  5.,\n",
            "        5.,  5.,  5.,  5.,  5.,  5.,  5.,  5.,  5.,  7.,  5.,  5.,  5.,\n",
            "        5.,  5.,  5.,  5.,  5.,  6.,  5.,  6.,  5.,  5.,  5.,  7.,  7.,\n",
            "        5.,  5.,  6.,  5.,  5.,  5.,  5.,  5.,  5.,  6.,  5.,  5.,  5.,\n",
            "        5.,  5.,  5.,  5.,  5.,  5.,  5.,  5.,  5.,  5.,  5.,  5.,  5.,\n",
            "        5.,  5.,  5.,  5.,  5.,  7.,  5.,  5.,  5.,  5.,  5.,  5.,  5.,\n",
            "        5.,  5.,  5.,  5.,  5.,  5.,  5.,  5.,  5.,  5.,  5.,  5.,  5.,\n",
            "        5.,  5.,  5.,  6.,  5.,  5.,  5.,  5.,  5.,  5.,  5.,  5.,  5.,\n",
            "        5.,  5.,  6.,  5.,  5.,  5.,  7.,  5.,  5.,  5.,  5.,  5.,  6.,\n",
            "        5.,  5.,  5.,  5.,  5.,  5.,  5.,  5.,  5.,  5.,  5.,  5.,  5.,\n",
            "        5.,  5.,  5.,  5.,  5.,  5.,  5.,  5.,  5.,  5.,  5.,  5.,  5.,\n",
            "        5.,  5.,  5.,  8.,  5.,  5.,  5.,  5.,  5.,  5.,  5.,  5.,  5.,\n",
            "        5.,  5.,  6.,  5.,  5.,  5.,  5.,  5.,  5.,  5.,  5.,  5.,  6.,\n",
            "        5.,  5.,  5.,  5.,  5.,  5.,  5.,  5.,  5.,  5.,  5.,  5.,  5.,\n",
            "        5.,  5.,  5.,  5.,  5.,  6.,  5.,  6.,  5.,  5.,  5.,  5.,  5.,\n",
            "        5.,  5.,  5.,  6.,  6.,  5.,  5.,  5.,  5.,  5.,  5.,  5.,  6.,\n",
            "        5.,  5.,  6.,  5.,  5.,  9.,  5.,  5.,  5.,  5.,  5.,  5.,  5.,\n",
            "        5.,  5.,  5.,  5.,  5.,  5.,  5.,  5.,  5.,  5.,  5.,  5.,  5.,\n",
            "        5.,  5.,  5.,  5.,  5.,  5.,  6.,  5.,  5.,  6.,  5.,  5.,  5.,\n",
            "        5.,  5.,  5.,  5.,  5.,  5.,  5.,  5.,  5.,  5.,  9.,  5.,  5.,\n",
            "        5.,  5.,  5.,  6.,  5.,  5.,  5.,  5.,  5.,  6.,  5.,  5.,  5.,\n",
            "        5., 20.,  5.,  5.,  5.,  6.,  5.,  6.,  5.,  5.,  5.,  5.,  8.,\n",
            "        5.,  5.,  5.,  6.,  5.,  5.,  5.,  5.,  6.,  5.,  5.,  5.,  5.,\n",
            "        5.,  5.,  5.,  5.,  5.,  5.,  5.,  5.,  5.,  5.,  5.,  5.,  5.,\n",
            "        5.,  5.,  5.,  5.,  5.,  5.,  5.,  5.,  5.,  5.,  5.,  5.,  5.,\n",
            "        5.,  5.,  5.,  5.,  5.,  5.,  6.,  5.,  5.,  5.,  5.,  6.,  7.,\n",
            "        5.,  5.,  6.,  5.,  5.,  5.,  5.,  5.,  5.,  6.,  5.,  5.,  5.,\n",
            "        5.,  6.,  5.,  5.,  5.,  6.,  5.,  5.,  5.,  5.,  5.,  5.,  5.,\n",
            "        5.,  5.,  5.,  6.,  5.,  5.,  5.,  5.,  5.,  5.,  5.,  5.,  5.,\n",
            "        5.,  5.,  5.,  6.,  6.,  5.,  5.,  5.,  5.,  5.,  5.,  6.,  5.,\n",
            "        6.,  6.,  5.,  5.,  5.,  5.,  5.,  5.,  5.,  5.,  5.,  6.,  5.,\n",
            "        5.,  5.,  5.,  5.,  5.,  5.,  5.,  5.,  5.,  5.,  5.,  6.,  5.,\n",
            "        5.,  6.,  5.,  5.,  5.,  5.,  7.,  5.,  6.,  5.,  6.,  6.,  5.,\n",
            "        5.,  5.,  5.,  5.,  5.,  5.,  5.,  5.,  5.,  5.,  6.,  5.,  5.,\n",
            "        5.,  5.,  5.,  5.,  5.,  5.,  5.,  5.,  8.,  5.,  5.,  5.,  5.,\n",
            "        5.,  5.,  5.,  5.,  5.,  5.,  5.,  5.,  6.,  5.,  5.,  5.,  5.,\n",
            "        5.,  5.,  5.,  7.,  5.,  5.,  5.,  5.,  5.,  5.,  6.,  7.,  5.,\n",
            "        5.,  5.,  5.,  5.,  5.,  6.,  5., 10.,  5.,  6.,  5.,  5.,  5.,\n",
            "        5.,  5.,  5.,  5.,  5.,  5.,  5.,  6.,  5.,  5.,  5.,  5.,  5.,\n",
            "        5.,  5.,  5.,  5.,  5.,  5.,  5.,  5.,  5.,  5.,  6.,  5.,  5.,\n",
            "        5.,  5.,  5.,  5.,  7.,  5.,  6.,  5.,  5.,  6.,  5.,  5.,  5.,\n",
            "        5.,  5.,  5.,  5.,  5.,  5.,  5.,  5.,  5.,  5.,  5.,  5.,  5.,\n",
            "        5.,  5.,  5.,  5.,  5.,  5.,  5.,  6.,  6.,  5.,  5.,  5.,  5.,\n",
            "        6.,  5.,  5.,  6.,  5.,  5.,  5.,  5.,  5.,  5.,  5.,  5.,  5.,\n",
            "        6.,  5.,  5.,  5.,  5.,  5.,  6.,  5.,  5.,  5.,  5.,  5.,  5.,\n",
            "        5.,  5.,  5.,  5.,  5.,  5.,  5.,  5.,  5.,  5.,  5.,  5.,  5.,\n",
            "        6.,  8.,  5.,  5.,  5.,  5.,  5.,  5.,  5.,  5.,  5.,  5.,  5.,\n",
            "        5.,  5.,  5.,  5.,  5.,  5.,  5.,  5.,  5.,  5.,  6.,  5.,  5.,\n",
            "        5.,  5.,  6.,  5.,  5.])]\n",
            "\n",
            "means: []\n",
            "\n"
          ]
        },
        {
          "output_type": "display_data",
          "data": {
            "text/plain": [
              "<Figure size 432x288 with 1 Axes>"
            ],
            "image/png": "[encoded data removed]"
          },
          "metadata": {
            "needs_background": "light"
          }
        },
        {
          "output_type": "stream",
          "name": "stdout",
          "text": [
            "******************************************************************************************\n",
            "Bathroom\n",
            "dict_keys(['whiskers', 'caps', 'boxes', 'medians', 'fliers', 'means'])\n",
            "whiskers: [array([1., 0.]), array([2., 3.])]\n",
            "\n",
            "caps: [array([0., 0.]), array([3., 3.])]\n",
            "\n",
            "boxes: [array([1., 1., 2., 2., 1.])]\n",
            "\n",
            "medians: [array([1., 1.])]\n",
            "\n",
            "fliers: [array([4., 7., 5., 4., 5., 5., 4., 5., 6., 4., 7., 4., 4., 4., 4., 5., 4.,\n",
            "       4., 4., 4., 5., 6., 4., 4., 5., 4., 4., 4., 4., 5., 4., 4., 5., 4.,\n",
            "       4., 4., 4., 4., 4., 4., 4., 4., 4., 4., 4., 5., 4., 4., 6., 4., 4.,\n",
            "       5., 4., 5., 4., 4., 4., 4., 4., 4., 5., 8., 4., 4., 5., 4., 4., 5.,\n",
            "       4., 4., 4., 4., 4., 4., 4., 4., 6., 4., 4., 4., 4., 4., 4., 5., 4.,\n",
            "       5., 4., 5., 4., 4., 4., 4., 4., 4., 4., 4., 4., 5., 4., 4., 4., 4.,\n",
            "       4., 4., 4., 5., 4., 4., 4., 4., 4., 5., 4., 8., 6., 4., 4., 4., 4.,\n",
            "       5., 4., 4., 5., 4., 4., 4., 5., 5., 5., 4., 4., 4., 4., 4., 5., 4.,\n",
            "       4., 4., 4., 4., 4., 5., 4.])]\n",
            "\n",
            "means: []\n",
            "\n"
          ]
        },
        {
          "output_type": "display_data",
          "data": {
            "text/plain": [
              "<Figure size 432x288 with 1 Axes>"
            ],
            "image/png": "[encoded data removed]"
          },
          "metadata": {
            "needs_background": "light"
          }
        },
        {
          "output_type": "stream",
          "name": "stdout",
          "text": [
            "******************************************************************************************\n",
            "Landsize\n",
            "dict_keys(['whiskers', 'caps', 'boxes', 'medians', 'fliers', 'means'])\n",
            "whiskers: [array([177.,   0.]), array([ 651., 1357.])]\n",
            "\n",
            "caps: [array([0., 0.]), array([1357., 1357.])]\n",
            "\n",
            "boxes: [array([177., 177., 651., 651., 177.])]\n",
            "\n",
            "medians: [array([440., 440.])]\n",
            "\n",
            "fliers: [array([  4290.,   1581.,   2113.,   1491.,   2471.,   1957.,   1472.,\n",
            "         1801.,   2051.,   1468.,   1437.,   1611.,   1364.,  75100.,\n",
            "         4931.,   1572.,   1561.,   4668.,   4676.,   2120.,   1393.,\n",
            "         2886.,  15900.,   2773.,   3701.,   1777.,   1484.,   1764.,\n",
            "         1966.,   2381.,   2925.,   1622.,   1547.,  10100.,   1658.,\n",
            "         2782.,   4332.,   2778.,   4296.,   4296.,   4296.,   2077.,\n",
            "         2794.,   8680.,   1783.,   1485.,   3056.,   1996.,   1402.,\n",
            "         1504.,   3414.,   1585.,   1997.,   3132.,   1568.,   3194.,\n",
            "         3977.,   4267.,   4440.,   3448.,   3957.,   2136.,   1972.,\n",
            "        15100.,   5661.,   3967.,   1396.,  37000.,   4977.,   3014.,\n",
            "         3014.,   4230.,   1414.,   4051.,   1751.,   1388.,   2026.,\n",
            "         2187.,   1981.,   1660.,   2522.,   1588.,   2300.,   1882.,\n",
            "         1390.,   2469.,   2427.,   2488.,   2431.,   2401.,   2193.,\n",
            "        21700.,   2166.,   2166.,   2166.,   6866.,   5042.,   1768.,\n",
            "         1958.,   8216.,   3037.,   1485.,   4679.,  41400.,   8223.,\n",
            "         1725.,   2571.,   2740.,   7455.,   8223.,   3516.,   1850.,\n",
            "         1613.,   2325.,   2143.,  14500.,  17200.,   1369.,   1424.,\n",
            "         2122.,   6111.,  17200.,   1826.,   2121.,   3878.,   2295.,\n",
            "         3878.,   2955.,   5530.,   6186.,   1669.,   2335.,   2879.,\n",
            "         7170.,   1676.,   1676.,   7458.,   1409.,   1458.,   1659.,\n",
            "         1781.,   7330.,   1677.,   2927.,   1452.,   1555.,   3455.,\n",
            "         2274.,   2276.,   3084.,   1547.,   4497.,   4497.,   2064.,\n",
            "         1473.,   5289.,   5289.,   2347.,   1784.,   1803.,   1647.,\n",
            "         1403.,   1556.,   1611.,   3886.,   2079.,   3747.,  15900.,\n",
            "         1783.,   2696.,   2679.,   6494.,   2306.,   1536.,   1465.,\n",
            "         2787.,   2787.,   4721.,   2410.,   2166.,   7159.,  21715.,\n",
            "         2842.,   8220.,   2044.,   3512.,   7455.,   3512.,   5467.,\n",
            "        17200.,   3197.,   2422.,   2920.,   2701.,   4076.,   1851.,\n",
            "         1912.,   6261.,   2122.,   2581.,   2592.,   2135.,   2592.,\n",
            "         1816.,   1678.,   4657.,   2023.,   1993.,   8140.,   5022.,\n",
            "         9838.,   1469.,   2338.,   1540.,   3826.,   4563.,   2735.,\n",
            "         3701.,   1764.,   4096.,   1750.,   1396.,   2267.,   4606.,\n",
            "        37000.,   2431.,   6830.,   1472.,   1646.,   3093.,   2076.,\n",
            "         1670.,   2978.,   2379.,   4413.,   1856.,   1590.,   1583.,\n",
            "         1690.,   6996.,   2135.,   3160.,   2429.,   2431.,   2226.,\n",
            "         8888.,   3878.,   1501.,   2685.,   3481.,   1489.,   1523.,\n",
            "         1424.,   4780.,   2592.,   2385.,   1382.,   4221.,   1459.,\n",
            "        38490.,   1890.,   2207.,   1961.,   1717.,   2256.,   4077.,\n",
            "         1659.,   4977.,   2431.,  14196.,  76000.,   3634.,   1529.,\n",
            "         1521.,   2040.,   1869.,   6367.,   4421.,   2015.,   1801.,\n",
            "         2033.,   4267.,   2135.,   2166.,   2427.,  17200.,   3093.,\n",
            "         4000.,   1474.,   3256., 433014.,   6367.,   1730.,   6712.,\n",
            "         2020.,   1618.,   2029.,   1555.,   4001.,   2905.,   1727.,\n",
            "         2033.,   1388.,   2048.,  40468.,   5259.,   1469.,   1723.,\n",
            "         7455.,  16000.,   1715.,   1533.,   1405.,   1909.,   2338.,\n",
            "         2026.,   3512.,   2044.,   3316.,   2863.,   1625.,   1978.,\n",
            "         1800.,   1783.,   1503.,   1775.,   3957.,   1843.,   4422.,\n",
            "         1453.,  17200.,   3901.,   1501.,   2283.,   1965.,   2405.,\n",
            "         1471.,   2679.,  12300.,   4604.,   3215.,   4025.,   2189.,\n",
            "        20200.,   2243.,   1457.,  14294.,   1889.,   9338.,   1880.,\n",
            "         1730.,   2002.,   4168.,   2048.,   2716.,   2835.,  44500.,\n",
            "         1606.,   4425.,   9405.,   6000.,   2000.,   2405.,   5750.,\n",
            "         2027.,   1670.,   1611.,   1475.])]\n",
            "\n",
            "means: []\n",
            "\n"
          ]
        },
        {
          "output_type": "display_data",
          "data": {
            "text/plain": [
              "<Figure size 432x288 with 1 Axes>"
            ],
            "image/png": "[encoded data removed]"
          },
          "metadata": {
            "needs_background": "light"
          }
        },
        {
          "output_type": "stream",
          "name": "stdout",
          "text": [
            "******************************************************************************************\n",
            "Lattitude\n",
            "dict_keys(['whiskers', 'caps', 'boxes', 'medians', 'fliers', 'means'])\n",
            "whiskers: [array([-37.8568225, -38.00663  ]), array([-37.7564, -37.606 ])]\n",
            "\n",
            "caps: [array([-38.00663, -38.00663]), array([-37.606, -37.606])]\n",
            "\n",
            "boxes: [array([-37.8568225, -37.8568225, -37.7564   , -37.7564   , -37.8568225])]\n",
            "\n",
            "medians: [array([-37.802355, -37.802355])]\n",
            "\n",
            "fliers: [array([-38.02434, -38.10687, -38.1523 , -38.11948, -38.16492, -38.03147,\n",
            "       -38.02938, -38.10422, -38.10542, -38.06257, -38.07921, -38.07938,\n",
            "       -38.07405, -38.0781 , -38.05304, -38.04683, -38.15517, -38.1187 ,\n",
            "       -38.11014, -38.05379, -38.09111, -38.10709, -38.16439, -38.09088,\n",
            "       -38.09083, -38.03062, -38.07483, -38.03526, -38.14444, -38.14264,\n",
            "       -38.13442, -38.18255, -38.0312 , -38.07474, -38.0817 , -38.1078 ,\n",
            "       -38.01468, -38.03296, -38.06022, -38.08981, -38.03548, -38.03093,\n",
            "       -38.13759, -38.13669, -38.15882, -38.16121, -38.03378, -38.08814,\n",
            "       -38.0683 , -38.06788, -38.10984, -38.07898, -38.04105, -38.16483,\n",
            "       -38.15983, -38.02683, -38.0457 , -38.11336, -38.02608, -38.01901,\n",
            "       -38.07509, -38.11471, -38.08632, -38.16415, -38.1632 , -38.15752,\n",
            "       -38.01706, -38.02768, -38.0796 , -38.09665, -38.13743, -38.16146,\n",
            "       -38.00908, -38.037  , -38.07054, -38.08699, -38.12477, -38.10226,\n",
            "       -38.118  , -38.11161, -38.01347, -38.01596, -38.01958, -38.05614,\n",
            "       -38.06486, -38.02621, -38.07196, -38.04602, -38.0371 , -38.13805,\n",
            "       -38.16762, -38.16404, -38.15575, -38.07583, -38.02848, -38.04668,\n",
            "       -38.03517, -38.07912, -38.09798, -38.05635, -38.03335, -38.07202,\n",
            "       -38.03227, -38.13275, -38.16147, -38.14016, -38.11984, -38.16227,\n",
            "       -38.13673, -38.00765, -38.10052, -38.09683, -38.06508, -38.15675,\n",
            "       -38.13954, -38.16457, -38.15984, -38.01908, -38.01909, -38.1386 ,\n",
            "       -38.16475, -38.09864, -38.01345, -38.02094, -38.02105, -38.06189,\n",
            "       -38.09601, -38.1046 , -38.04666, -38.16802, -38.16185, -38.16363,\n",
            "       -38.01695, -38.04513, -38.03819, -38.14406, -38.16135, -38.03383,\n",
            "       -38.06866, -38.03804, -38.03288, -38.14738, -38.17488, -38.06688,\n",
            "       -38.10346, -38.10429, -38.09187, -38.04922, -38.08902, -38.04214,\n",
            "       -38.14374, -38.12023, -38.16457, -38.15845, -38.16624, -38.02981,\n",
            "       -38.14508, -38.10505, -37.58885, -37.60329, -37.59715, -37.49642,\n",
            "       -37.58676, -37.60238, -37.59501, -37.57282, -37.58689, -37.59908,\n",
            "       -37.57201, -37.57456, -37.57686, -37.59943, -37.48701, -37.56291,\n",
            "       -37.59902, -37.57005, -37.57307, -37.45709, -37.58419, -37.57886,\n",
            "       -37.5993 , -37.59052, -37.57056, -37.57243, -37.58089, -37.58025,\n",
            "       -37.58231, -37.57355, -37.50087, -37.57416, -37.5729 , -37.5951 ,\n",
            "       -37.60574, -37.59264, -37.48381, -37.57467, -37.50929, -37.49175,\n",
            "       -37.6017 , -37.57186, -37.6038 , -37.58242, -37.58025, -37.56883,\n",
            "       -37.57635, -37.59386, -37.56935, -37.57532, -37.59392, -37.58505,\n",
            "       -37.58739, -37.58279, -37.6038 , -37.57063, -37.57816, -37.58442,\n",
            "       -37.57499, -37.51232, -37.57008, -37.59589, -37.57029, -37.56284,\n",
            "       -37.58196, -37.58319, -37.5875 , -37.50624, -37.49674, -37.57281,\n",
            "       -37.58562, -37.57367, -37.59735, -37.50733, -37.57662, -37.57123,\n",
            "       -37.58883, -37.40853, -37.59604, -37.56857, -37.58012, -37.56937,\n",
            "       -37.59372, -37.57565, -37.59827, -37.59665, -37.56279, -37.58479,\n",
            "       -37.57383, -37.58905, -37.58364, -37.57869, -37.45392, -37.5877 ,\n",
            "       -37.57858, -37.59115, -37.58457, -37.57231, -37.57687, -37.57589,\n",
            "       -37.58176, -37.56005, -37.5781 , -37.56533])]\n",
            "\n",
            "means: []\n",
            "\n"
          ]
        },
        {
          "output_type": "display_data",
          "data": {
            "text/plain": [
              "<Figure size 432x288 with 1 Axes>"
            ],
            "image/png": "[encoded data removed]"
          },
          "metadata": {
            "needs_background": "light"
          }
        },
        {
          "output_type": "stream",
          "name": "stdout",
          "text": [
            "******************************************************************************************\n",
            "Longtitude\n",
            "dict_keys(['whiskers', 'caps', 'boxes', 'medians', 'fliers', 'means'])\n",
            "whiskers: [array([144.9296 , 144.73685]), array([145.058305, 145.25077 ])]\n",
            "\n",
            "caps: [array([144.73685, 144.73685]), array([145.25077, 145.25077])]\n",
            "\n",
            "boxes: [array([144.9296  , 144.9296  , 145.058305, 145.058305, 144.9296  ])]\n",
            "\n",
            "medians: [array([145.0001, 145.0001])]\n",
            "\n",
            "fliers: [array([144.73472, 144.60119, 144.73272, 144.57866, 144.57415, 144.72018,\n",
            "       144.66615, 144.70069, 144.70553, 144.72865, 144.69649, 144.7034 ,\n",
            "       144.71155, 144.67244, 144.65264, 144.67241, 144.63041, 144.66671,\n",
            "       144.68039, 144.6942 , 144.69617, 144.56803, 144.5807 , 144.55833,\n",
            "       144.71548, 144.71023, 144.65733, 144.64373, 144.65693, 144.66679,\n",
            "       144.66661, 144.67724, 144.63302, 144.58567, 144.69959, 144.68768,\n",
            "       144.5864 , 144.57211, 144.72848, 144.65529, 144.65138, 144.72513,\n",
            "       144.73331, 144.58355, 144.57894, 144.57153, 144.68999, 144.73188,\n",
            "       144.71138, 144.71086, 144.69638, 144.68409, 144.71221, 144.68825,\n",
            "       144.7141 , 144.67109, 144.70606, 144.58001, 144.57468, 144.55106,\n",
            "       144.72183, 144.72333, 144.65774, 144.63942, 144.43181, 144.73422,\n",
            "       144.58157, 144.57342, 144.57159, 144.71759, 144.69962, 144.70854,\n",
            "       144.66522, 144.68182, 144.71487, 144.7227 , 144.661  , 144.67869,\n",
            "       144.65526, 144.59864, 144.48571, 144.71825, 144.60052, 144.71456,\n",
            "       144.7035 , 144.59455, 144.54237, 144.72559, 144.65407, 144.6887 ,\n",
            "       144.66332, 144.65368, 144.67582, 144.60977, 144.56444, 144.59565,\n",
            "       144.69103, 144.69317, 144.69423, 144.57431, 144.57243, 144.56775,\n",
            "       144.73158, 144.72014, 144.66459, 144.65677, 144.66481, 144.67008,\n",
            "       144.68607, 144.69566, 144.68931, 144.59643, 144.5788 , 144.57704,\n",
            "       144.57827, 144.57108, 144.57125, 144.565  , 144.7241 , 144.71058,\n",
            "       144.65618, 144.67324, 144.66179, 144.65744, 144.63816, 144.64143,\n",
            "       144.66101, 144.66149, 144.64143, 144.65591, 144.64268, 144.54532,\n",
            "       144.7325 , 144.66771, 144.59785, 144.57235, 144.57688, 144.55784,\n",
            "       144.70693, 144.73431, 144.66165, 144.66911, 144.64003, 144.6707 ,\n",
            "       144.66276, 144.70671, 144.69648, 144.56926, 144.57106, 144.55857,\n",
            "       144.73457, 144.71163, 144.71187, 144.71066, 144.65608, 144.6555 ,\n",
            "       144.68345, 144.58134, 144.62618, 144.68447, 144.57198, 144.70015,\n",
            "       144.71581, 144.71842, 144.65938, 144.66857, 144.58666, 144.69426,\n",
            "       144.67094, 144.68746, 144.72334, 144.70202, 144.65337, 144.68325,\n",
            "       144.67918, 144.73516, 144.73543, 144.73018, 144.68431, 144.57261,\n",
            "       144.7304 , 144.71541, 144.72102, 144.63761, 144.64056, 144.62082,\n",
            "       144.72874, 144.70802, 144.69356, 144.69131, 144.69953, 144.56887,\n",
            "       144.55888, 144.55666, 144.58864, 144.72492, 144.72349, 144.72581,\n",
            "       144.70005, 144.70429, 144.64131, 144.66125, 144.67154, 144.7062 ,\n",
            "       144.69719, 144.69863, 144.59292, 144.57645, 144.73177, 144.70892,\n",
            "       144.72383, 144.71233, 144.65609, 144.64789, 145.26075, 145.27488,\n",
            "       145.33117, 145.29351, 145.2811 , 145.2683 , 145.27212, 145.27569,\n",
            "       145.2709 , 145.52635, 145.31126, 145.31876, 145.31762, 145.25606,\n",
            "       145.26673, 145.25253, 145.28858, 145.28688, 145.26317, 145.28893,\n",
            "       145.29665, 145.26935, 145.28866, 145.26907, 145.33738, 145.3298 ,\n",
            "       145.25419, 145.26933, 145.26345, 145.25632, 145.27323, 145.34803,\n",
            "       145.28741, 145.26504, 145.29265, 145.28113, 145.2804 , 145.26011,\n",
            "       145.2729 , 145.3275 , 145.33073, 145.25738, 145.25184, 145.2615 ,\n",
            "       145.26519, 145.41081, 145.35951, 145.2829 , 145.29274, 145.29351,\n",
            "       145.37222, 145.30703, 145.45376, 145.26319, 145.43003, 145.2565 ,\n",
            "       145.33439, 145.35044, 145.30299, 145.30208, 145.25811, 145.26367,\n",
            "       145.28383, 145.27588, 145.28646, 145.26325, 145.2621 , 145.2547 ,\n",
            "       145.47052, 145.33501, 145.26305, 145.25624, 145.33833, 145.33967,\n",
            "       145.25808, 145.25739, 145.3165 , 145.29661, 145.29132, 145.28792,\n",
            "       145.28579, 145.28581, 145.2775 , 145.29371, 145.27213, 145.25871,\n",
            "       145.27395, 145.30297, 145.35396, 145.32513, 145.25311, 145.25896,\n",
            "       145.31036, 145.26267, 145.33479, 145.26022, 145.31859, 145.28343,\n",
            "       145.2647 , 145.26924, 145.26447, 145.29284, 145.28915, 145.26653,\n",
            "       145.26176, 145.30721, 145.29076, 145.25705, 145.30716, 145.28886,\n",
            "       145.2938 , 145.29287, 145.26942, 145.29959, 145.28674, 145.2957 ,\n",
            "       145.27006, 145.29148, 145.26708, 145.30819, 145.30773, 145.30264,\n",
            "       145.30862, 145.42554, 145.48273, 145.38464, 145.35031, 145.34635,\n",
            "       145.28352, 145.28553, 145.43698, 145.37389, 145.25545, 145.36939,\n",
            "       145.33886, 145.25475, 145.29493, 145.27369, 145.27461, 145.28337,\n",
            "       145.30267, 145.26912, 145.4453 , 145.27178, 145.27019, 145.26001,\n",
            "       145.25176, 145.25918, 145.29185, 145.27879, 145.31266, 145.25802,\n",
            "       145.35417, 145.29651, 145.27755, 145.26256, 145.26581, 145.29163,\n",
            "       145.27197, 145.28958, 145.26225, 145.27625, 145.32271, 145.25368,\n",
            "       145.25333, 145.29711, 145.26161, 145.29079, 145.25538, 145.27724,\n",
            "       145.27515, 145.27561, 145.30467, 145.33017, 145.3919 , 145.25964,\n",
            "       145.29921, 145.30266, 145.36314, 145.28774, 145.26956, 145.27924,\n",
            "       145.26642, 145.30445, 145.30281, 145.2758 , 145.29006, 145.27002,\n",
            "       145.27326, 145.28104, 145.32092, 145.41288, 145.31687, 145.25225])]\n",
            "\n",
            "means: []\n",
            "\n"
          ]
        },
        {
          "output_type": "display_data",
          "data": {
            "text/plain": [
              "<Figure size 432x288 with 1 Axes>"
            ],
            "image/png": "[encoded data removed]"
          },
          "metadata": {
            "needs_background": "light"
          }
        },
        {
          "output_type": "stream",
          "name": "stdout",
          "text": [
            "******************************************************************************************\n",
            "Propertycount\n",
            "dict_keys(['whiskers', 'caps', 'boxes', 'medians', 'fliers', 'means'])\n",
            "whiskers: [array([4380.,  249.]), array([10331., 17496.])]\n",
            "\n",
            "caps: [array([249., 249.]), array([17496., 17496.])]\n",
            "\n",
            "boxes: [array([ 4380.,  4380., 10331., 10331.,  4380.])]\n",
            "\n",
            "medians: [array([6555., 6555.])]\n",
            "\n",
            "fliers: [array([21650., 21650., 21650., 21650., 21650., 21650., 21650., 21650.,\n",
            "       21650., 21650., 21650., 21650., 21650., 21650., 21650., 21650.,\n",
            "       21650., 21650., 21650., 21650., 21650., 21650., 21650., 21650.,\n",
            "       21650., 21650., 21650., 21650., 21650., 21650., 21650., 21650.,\n",
            "       21650., 21650., 21650., 21650., 21650., 21650., 21650., 21650.,\n",
            "       21650., 21650., 21650., 21650., 21650., 21650., 21650., 21650.,\n",
            "       21650., 21650., 21650., 21650., 21650., 21650., 21650., 21650.,\n",
            "       21650., 21650., 21650., 21650., 21650., 21650., 21650., 21650.,\n",
            "       21650., 21650., 21650., 21650., 21650., 21650., 21650., 21650.,\n",
            "       21650., 21650., 21650., 21650., 21650., 21650., 21650., 21650.,\n",
            "       21650., 21650., 21650., 21650., 21650., 21650., 21650., 21650.,\n",
            "       21650., 21650., 21650., 21650., 21650., 21650., 21650., 21650.,\n",
            "       21650., 21650., 21650., 21650., 21650., 21650., 21650., 21650.,\n",
            "       21650., 21650., 21650., 21650., 21650., 21650., 21650., 21650.,\n",
            "       21650., 21650., 21650., 21650., 21650., 21650., 21650., 21650.,\n",
            "       21650., 21650., 21650., 21650., 21650., 21650., 21650., 21650.,\n",
            "       21650., 21650., 21650., 21650., 21650., 21650., 21650., 21650.,\n",
            "       21650., 21650., 21650., 21650., 21650., 21650., 21650., 21650.,\n",
            "       21650., 21650., 21650., 21650., 21650., 21650., 21650., 21650.,\n",
            "       21650., 21650., 21650., 21650., 21650., 21650., 21650., 21650.,\n",
            "       21650., 21650., 21650., 21650., 21650., 21650., 21650., 21650.,\n",
            "       21650., 21650., 21650., 21650., 21650., 21650., 21650., 21650.,\n",
            "       21650., 21650., 21650., 21650., 21650., 21650., 21650., 21650.,\n",
            "       21650., 21650., 21650., 21650., 21650., 21650., 21650., 21650.,\n",
            "       21650., 21650., 21650., 21650., 21650., 21650., 21650., 21650.,\n",
            "       21650., 21650., 21650., 21650., 21650., 21650., 21650., 21650.,\n",
            "       21650., 21650., 21650., 21650., 21650., 21650., 21650., 21650.,\n",
            "       21650., 21650., 21650., 21650., 21650., 21650., 21650., 21650.,\n",
            "       21650., 21650., 21650., 21650., 21650., 21650., 21650., 21650.,\n",
            "       21650., 21650., 21650., 21650., 21650., 21650., 21650., 21650.,\n",
            "       21650., 21650., 21650., 21650., 21650., 21650., 21650., 21650.,\n",
            "       21650., 21650., 21650., 21650., 21650., 21650., 21650., 21650.,\n",
            "       21650., 21650., 21650., 21650., 21650., 21650., 21650., 21650.,\n",
            "       21650., 21650., 21650., 21650., 21650., 21650., 21650., 21650.,\n",
            "       21650., 21650., 21650., 21650., 21650., 21650., 21650., 21650.,\n",
            "       21650., 21650., 21650., 21650., 21650., 21650., 21650., 21650.,\n",
            "       21650., 21650., 21650., 21650., 21650., 21650., 21650., 21650.,\n",
            "       21650., 21650., 21650., 21650., 21650., 21650., 21650., 21650.,\n",
            "       21650., 21650., 21650., 21650., 21650., 21650., 21650., 21650.,\n",
            "       21650., 21650., 21650., 21650., 21650., 21650., 21650., 21650.,\n",
            "       21650., 21650., 21650., 21650., 21650., 21650., 21650., 21650.,\n",
            "       21650., 21650., 21650., 21650., 21650., 21650., 21650., 21650.,\n",
            "       21650., 21650., 21650., 21650., 21650., 21650., 21650., 21650.,\n",
            "       21650., 21650., 21650., 21650., 21650., 21650., 21650., 21650.,\n",
            "       21650., 21650., 21650., 21650., 21650., 21650., 21650.])]\n",
            "\n",
            "means: []\n",
            "\n"
          ]
        },
        {
          "output_type": "display_data",
          "data": {
            "text/plain": [
              "<Figure size 432x288 with 1 Axes>"
            ],
            "image/png": "[encoded data removed]"
          },
          "metadata": {
            "needs_background": "light"
          }
        },
        {
          "output_type": "stream",
          "name": "stdout",
          "text": [
            "******************************************************************************************\n"
          ]
        }
      ]
    },
    {
      "cell_type": "code",
      "source": [
        "# Treating the outliers \n",
        "\n",
        "melb_data['Rooms']=np.where(melb_data['Rooms']>4, 4, melb_data['Rooms'])\n",
        "\n",
        "melb_data['Price']=np.where(melb_data['Price']>2350000, 2350000, melb_data['Price'])\n",
        "\n",
        "melb_data['Distance']=np.where(melb_data['Distance']>23.3, 23.3, melb_data['Distance'])\n",
        "\n",
        "melb_data['Postcode']=np.where(melb_data['Postcode']>3207, 3207, melb_data['Postcode'])\n",
        "\n",
        "melb_data['Bedroom2']=np.where(melb_data['Bedroom2']<1.0, 1.0, melb_data['Bedroom2'])\n",
        "melb_data['Bedroom2']=np.where(melb_data['Bedroom2']>4, 4, melb_data['Bedroom2'])\n",
        "\n",
        "melb_data['Bathroom']=np.where(melb_data['Bathroom']>3, 3, melb_data['Bathroom'])\n",
        "\n",
        "melb_data['Landsize']=np.where(melb_data['Landsize']<3.0, 3.0, melb_data['Landsize'])\n",
        "melb_data['Landsize']=np.where(melb_data['Landsize']>1357.0, 1357.0, melb_data['Landsize'])\n",
        "\n",
        "melb_data['Lattitude']=np.where(melb_data['Lattitude']<-38.00663, -38.00663, melb_data['Lattitude'])\n",
        "melb_data['Lattitude']=np.where(melb_data['Lattitude']>-37.606, -37.606, melb_data['Lattitude'])\n",
        "\n",
        "melb_data['Longtitude']=np.where(melb_data['Longtitude']<144.73685, 144.73685, melb_data['Longtitude'])\n",
        "melb_data['Longtitude']=np.where(melb_data['Longtitude']>145.25077, 145.25077, melb_data['Longtitude'])\n",
        "\n",
        "melb_data['Propertycount']=np.where(melb_data['Propertycount']>17496.0, 17496.0, melb_data['Propertycount'])"
      ],
      "metadata": {
        "id": "zQJ26o22mSBX"
      },
      "execution_count": null,
      "outputs": []
    },
    {
      "cell_type": "code",
      "source": [
        "for col in columns:\n",
        "    print(col)\n",
        "    bp=plt.boxplot(melb_data[col].dropna(), showcaps=True)\n",
        "    print(bp.keys())\n",
        "    for key in bp:\n",
        "        print(f'{key}: {[item.get_ydata() for item in bp[key]]}\\n')\n",
        "    plt.show()\n",
        "    print('***'*30)\n"
      ],
      "metadata": {
        "id": "AzGWjRzPfi4p",
        "colab": {
          "base_uri": "https://localhost:8080/",
          "height": 1000
        },
        "outputId": "773ab4d3-796d-499d-f399-79127312c230"
      },
      "execution_count": null,
      "outputs": [
        {
          "output_type": "stream",
          "name": "stdout",
          "text": [
            "Rooms\n",
            "dict_keys(['whiskers', 'caps', 'boxes', 'medians', 'fliers', 'means'])\n",
            "whiskers: [array([2., 1.]), array([3., 4.])]\n",
            "\n",
            "caps: [array([1., 1.]), array([4., 4.])]\n",
            "\n",
            "boxes: [array([2., 2., 3., 3., 2.])]\n",
            "\n",
            "medians: [array([3., 3.])]\n",
            "\n",
            "fliers: [array([], dtype=int64)]\n",
            "\n",
            "means: []\n",
            "\n"
          ]
        },
        {
          "output_type": "display_data",
          "data": {
            "text/plain": [
              "<Figure size 432x288 with 1 Axes>"
            ],
            "image/png": "[encoded data removed]"
          },
          "metadata": {
            "needs_background": "light"
          }
        },
        {
          "output_type": "stream",
          "name": "stdout",
          "text": [
            "******************************************************************************************\n",
            "Price\n",
            "dict_keys(['whiskers', 'caps', 'boxes', 'medians', 'fliers', 'means'])\n",
            "whiskers: [array([650000.,  85000.]), array([1330000., 2350000.])]\n",
            "\n",
            "caps: [array([85000., 85000.]), array([2350000., 2350000.])]\n",
            "\n",
            "boxes: [array([ 650000.,  650000., 1330000., 1330000.,  650000.])]\n",
            "\n",
            "medians: [array([903000., 903000.])]\n",
            "\n",
            "fliers: [array([], dtype=float64)]\n",
            "\n",
            "means: []\n",
            "\n"
          ]
        },
        {
          "output_type": "display_data",
          "data": {
            "text/plain": [
              "<Figure size 432x288 with 1 Axes>"
            ],
            "image/png": "[encoded data removed]"
          },
          "metadata": {
            "needs_background": "light"
          }
        },
        {
          "output_type": "stream",
          "name": "stdout",
          "text": [
            "******************************************************************************************\n",
            "Distance\n",
            "dict_keys(['whiskers', 'caps', 'boxes', 'medians', 'fliers', 'means'])\n",
            "whiskers: [array([6.1, 0. ]), array([13. , 23.3])]\n",
            "\n",
            "caps: [array([0., 0.]), array([23.3, 23.3])]\n",
            "\n",
            "boxes: [array([ 6.1,  6.1, 13. , 13. ,  6.1])]\n",
            "\n",
            "medians: [array([9.2, 9.2])]\n",
            "\n",
            "fliers: [array([], dtype=float64)]\n",
            "\n",
            "means: []\n",
            "\n"
          ]
        },
        {
          "output_type": "display_data",
          "data": {
            "text/plain": [
              "<Figure size 432x288 with 1 Axes>"
            ],
            "image/png": "[encoded data removed]"
          },
          "metadata": {
            "needs_background": "light"
          }
        },
        {
          "output_type": "stream",
          "name": "stdout",
          "text": [
            "******************************************************************************************\n",
            "Postcode\n",
            "dict_keys(['whiskers', 'caps', 'boxes', 'medians', 'fliers', 'means'])\n",
            "whiskers: [array([3044., 3000.]), array([3148., 3207.])]\n",
            "\n",
            "caps: [array([3000., 3000.]), array([3207., 3207.])]\n",
            "\n",
            "boxes: [array([3044., 3044., 3148., 3148., 3044.])]\n",
            "\n",
            "medians: [array([3084., 3084.])]\n",
            "\n",
            "fliers: [array([], dtype=float64)]\n",
            "\n",
            "means: []\n",
            "\n"
          ]
        },
        {
          "output_type": "display_data",
          "data": {
            "text/plain": [
              "<Figure size 432x288 with 1 Axes>"
            ],
            "image/png": "[encoded data removed]"
          },
          "metadata": {
            "needs_background": "light"
          }
        },
        {
          "output_type": "stream",
          "name": "stdout",
          "text": [
            "******************************************************************************************\n",
            "Bedroom2\n",
            "dict_keys(['whiskers', 'caps', 'boxes', 'medians', 'fliers', 'means'])\n",
            "whiskers: [array([2., 1.]), array([3., 4.])]\n",
            "\n",
            "caps: [array([1., 1.]), array([4., 4.])]\n",
            "\n",
            "boxes: [array([2., 2., 3., 3., 2.])]\n",
            "\n",
            "medians: [array([3., 3.])]\n",
            "\n",
            "fliers: [array([], dtype=float64)]\n",
            "\n",
            "means: []\n",
            "\n"
          ]
        },
        {
          "output_type": "display_data",
          "data": {
            "text/plain": [
              "<Figure size 432x288 with 1 Axes>"
            ],
            "image/png": "[encoded data removed]"
          },
          "metadata": {
            "needs_background": "light"
          }
        },
        {
          "output_type": "stream",
          "name": "stdout",
          "text": [
            "******************************************************************************************\n",
            "Bathroom\n",
            "dict_keys(['whiskers', 'caps', 'boxes', 'medians', 'fliers', 'means'])\n",
            "whiskers: [array([1., 0.]), array([2., 3.])]\n",
            "\n",
            "caps: [array([0., 0.]), array([3., 3.])]\n",
            "\n",
            "boxes: [array([1., 1., 2., 2., 1.])]\n",
            "\n",
            "medians: [array([1., 1.])]\n",
            "\n",
            "fliers: [array([], dtype=float64)]\n",
            "\n",
            "means: []\n",
            "\n"
          ]
        },
        {
          "output_type": "display_data",
          "data": {
            "text/plain": [
              "<Figure size 432x288 with 1 Axes>"
            ],
            "image/png": "[encoded data removed]"
          },
          "metadata": {
            "needs_background": "light"
          }
        },
        {
          "output_type": "stream",
          "name": "stdout",
          "text": [
            "******************************************************************************************\n",
            "Landsize\n",
            "dict_keys(['whiskers', 'caps', 'boxes', 'medians', 'fliers', 'means'])\n",
            "whiskers: [array([177.,   3.]), array([ 651., 1357.])]\n",
            "\n",
            "caps: [array([3., 3.]), array([1357., 1357.])]\n",
            "\n",
            "boxes: [array([177., 177., 651., 651., 177.])]\n",
            "\n",
            "medians: [array([440., 440.])]\n",
            "\n",
            "fliers: [array([], dtype=float64)]\n",
            "\n",
            "means: []\n",
            "\n"
          ]
        },
        {
          "output_type": "display_data",
          "data": {
            "text/plain": [
              "<Figure size 432x288 with 1 Axes>"
            ],
            "image/png": "[encoded data removed]"
          },
          "metadata": {
            "needs_background": "light"
          }
        },
        {
          "output_type": "stream",
          "name": "stdout",
          "text": [
            "******************************************************************************************\n",
            "Lattitude\n",
            "dict_keys(['whiskers', 'caps', 'boxes', 'medians', 'fliers', 'means'])\n",
            "whiskers: [array([-37.8568225, -38.00663  ]), array([-37.7564, -37.606 ])]\n",
            "\n",
            "caps: [array([-38.00663, -38.00663]), array([-37.606, -37.606])]\n",
            "\n",
            "boxes: [array([-37.8568225, -37.8568225, -37.7564   , -37.7564   , -37.8568225])]\n",
            "\n",
            "medians: [array([-37.802355, -37.802355])]\n",
            "\n",
            "fliers: [array([], dtype=float64)]\n",
            "\n",
            "means: []\n",
            "\n"
          ]
        },
        {
          "output_type": "display_data",
          "data": {
            "text/plain": [
              "<Figure size 432x288 with 1 Axes>"
            ],
            "image/png": "[encoded data removed]"
          },
          "metadata": {
            "needs_background": "light"
          }
        },
        {
          "output_type": "stream",
          "name": "stdout",
          "text": [
            "******************************************************************************************\n",
            "Longtitude\n",
            "dict_keys(['whiskers', 'caps', 'boxes', 'medians', 'fliers', 'means'])\n",
            "whiskers: [array([144.9296 , 144.73685]), array([145.058305, 145.25077 ])]\n",
            "\n",
            "caps: [array([144.73685, 144.73685]), array([145.25077, 145.25077])]\n",
            "\n",
            "boxes: [array([144.9296  , 144.9296  , 145.058305, 145.058305, 144.9296  ])]\n",
            "\n",
            "medians: [array([145.0001, 145.0001])]\n",
            "\n",
            "fliers: [array([], dtype=float64)]\n",
            "\n",
            "means: []\n",
            "\n"
          ]
        },
        {
          "output_type": "display_data",
          "data": {
            "text/plain": [
              "<Figure size 432x288 with 1 Axes>"
            ],
            "image/png": "[encoded data removed]"
          },
          "metadata": {
            "needs_background": "light"
          }
        },
        {
          "output_type": "stream",
          "name": "stdout",
          "text": [
            "******************************************************************************************\n",
            "Propertycount\n",
            "dict_keys(['whiskers', 'caps', 'boxes', 'medians', 'fliers', 'means'])\n",
            "whiskers: [array([4380.,  249.]), array([10331., 17496.])]\n",
            "\n",
            "caps: [array([249., 249.]), array([17496., 17496.])]\n",
            "\n",
            "boxes: [array([ 4380.,  4380., 10331., 10331.,  4380.])]\n",
            "\n",
            "medians: [array([6555., 6555.])]\n",
            "\n",
            "fliers: [array([], dtype=float64)]\n",
            "\n",
            "means: []\n",
            "\n"
          ]
        },
        {
          "output_type": "display_data",
          "data": {
            "text/plain": [
              "<Figure size 432x288 with 1 Axes>"
            ],
            "image/png": "[encoded data removed]"
          },
          "metadata": {
            "needs_background": "light"
          }
        },
        {
          "output_type": "stream",
          "name": "stdout",
          "text": [
            "******************************************************************************************\n"
          ]
        }
      ]
    },
    {
      "cell_type": "code",
      "source": [
        "# 'Suburb', 'Address', 'Rooms', 'Type', 'Price', 'Method', 'SellerG',\n",
        "      # 'Date', 'Distance', 'Postcode', 'Bedroom2', 'Bathroom', 'Landsize',\n",
        "      # 'Lattitude', 'Longtitude', 'Regionname', 'Propertycount'"
      ],
      "metadata": {
        "id": "FERSA6kJ2B05"
      },
      "execution_count": null,
      "outputs": []
    },
    {
      "cell_type": "code",
      "source": [
        "melb_data.drop(['Suburb', 'Address', 'Type', 'Method', 'SellerG', 'Date', 'Regionname'], axis=1, inplace=True)"
      ],
      "metadata": {
        "id": "17fuB2Lix-ZU"
      },
      "execution_count": null,
      "outputs": []
    },
    {
      "cell_type": "code",
      "source": [
        "melb_data.head()"
      ],
      "metadata": {
        "colab": {
          "base_uri": "https://localhost:8080/",
          "height": 206
        },
        "id": "imAghu3I4rJ6",
        "outputId": "b7f297b1-d97e-417a-e462-a305fec29524"
      },
      "execution_count": null,
      "outputs": [
        {
          "output_type": "execute_result",
          "data": {
            "text/plain": [
              "   Rooms      Price  Distance  Postcode  Bedroom2  Bathroom  Landsize  \\\n",
              "0      2  1480000.0       2.5    3067.0       2.0       1.0     202.0   \n",
              "1      2  1035000.0       2.5    3067.0       2.0       1.0     156.0   \n",
              "2      3  1465000.0       2.5    3067.0       3.0       2.0     134.0   \n",
              "3      3   850000.0       2.5    3067.0       3.0       2.0      94.0   \n",
              "4      4  1600000.0       2.5    3067.0       3.0       1.0     120.0   \n",
              "\n",
              "   Lattitude  Longtitude  Propertycount  \n",
              "0   -37.7996    144.9984         4019.0  \n",
              "1   -37.8079    144.9934         4019.0  \n",
              "2   -37.8093    144.9944         4019.0  \n",
              "3   -37.7969    144.9969         4019.0  \n",
              "4   -37.8072    144.9941         4019.0  "
            ],
            "text/html": [
              "\n",
              "  <div id=\"df-4c012a83-7602-49f0-a20c-95b420873571\">\n",
              "    <div class=\"colab-df-container\">\n",
              "      <div>\n",
              "<style scoped>\n",
              "    .dataframe tbody tr th:only-of-type {\n",
              "        vertical-align: middle;\n",
              "    }\n",
              "\n",
              "    .dataframe tbody tr th {\n",
              "        vertical-align: top;\n",
              "    }\n",
              "\n",
              "    .dataframe thead th {\n",
              "        text-align: right;\n",
              "    }\n",
              "</style>\n",
              "<table border=\"1\" class=\"dataframe\">\n",
              "  <thead>\n",
              "    <tr style=\"text-align: right;\">\n",
              "      <th></th>\n",
              "      <th>Rooms</th>\n",
              "      <th>Price</th>\n",
              "      <th>Distance</th>\n",
              "      <th>Postcode</th>\n",
              "      <th>Bedroom2</th>\n",
              "      <th>Bathroom</th>\n",
              "      <th>Landsize</th>\n",
              "      <th>Lattitude</th>\n",
              "      <th>Longtitude</th>\n",
              "      <th>Propertycount</th>\n",
              "    </tr>\n",
              "  </thead>\n",
              "  <tbody>\n",
              "    <tr>\n",
              "      <th>0</th>\n",
              "      <td>2</td>\n",
              "      <td>1480000.0</td>\n",
              "      <td>2.5</td>\n",
              "      <td>3067.0</td>\n",
              "      <td>2.0</td>\n",
              "      <td>1.0</td>\n",
              "      <td>202.0</td>\n",
              "      <td>-37.7996</td>\n",
              "      <td>144.9984</td>\n",
              "      <td>4019.0</td>\n",
              "    </tr>\n",
              "    <tr>\n",
              "      <th>1</th>\n",
              "      <td>2</td>\n",
              "      <td>1035000.0</td>\n",
              "      <td>2.5</td>\n",
              "      <td>3067.0</td>\n",
              "      <td>2.0</td>\n",
              "      <td>1.0</td>\n",
              "      <td>156.0</td>\n",
              "      <td>-37.8079</td>\n",
              "      <td>144.9934</td>\n",
              "      <td>4019.0</td>\n",
              "    </tr>\n",
              "    <tr>\n",
              "      <th>2</th>\n",
              "      <td>3</td>\n",
              "      <td>1465000.0</td>\n",
              "      <td>2.5</td>\n",
              "      <td>3067.0</td>\n",
              "      <td>3.0</td>\n",
              "      <td>2.0</td>\n",
              "      <td>134.0</td>\n",
              "      <td>-37.8093</td>\n",
              "      <td>144.9944</td>\n",
              "      <td>4019.0</td>\n",
              "    </tr>\n",
              "    <tr>\n",
              "      <th>3</th>\n",
              "      <td>3</td>\n",
              "      <td>850000.0</td>\n",
              "      <td>2.5</td>\n",
              "      <td>3067.0</td>\n",
              "      <td>3.0</td>\n",
              "      <td>2.0</td>\n",
              "      <td>94.0</td>\n",
              "      <td>-37.7969</td>\n",
              "      <td>144.9969</td>\n",
              "      <td>4019.0</td>\n",
              "    </tr>\n",
              "    <tr>\n",
              "      <th>4</th>\n",
              "      <td>4</td>\n",
              "      <td>1600000.0</td>\n",
              "      <td>2.5</td>\n",
              "      <td>3067.0</td>\n",
              "      <td>3.0</td>\n",
              "      <td>1.0</td>\n",
              "      <td>120.0</td>\n",
              "      <td>-37.8072</td>\n",
              "      <td>144.9941</td>\n",
              "      <td>4019.0</td>\n",
              "    </tr>\n",
              "  </tbody>\n",
              "</table>\n",
              "</div>\n",
              "      <button class=\"colab-df-convert\" onclick=\"convertToInteractive('df-4c012a83-7602-49f0-a20c-95b420873571')\"\n",
              "              title=\"Convert this dataframe to an interactive table.\"\n",
              "              style=\"display:none;\">\n",
              "        \n",
              "  <svg xmlns=\"http://www.w3.org/2000/svg\" height=\"24px\"viewBox=\"0 0 24 24\"\n",
              "       width=\"24px\">\n",
              "    <path d=\"M0 0h24v24H0V0z\" fill=\"none\"/>\n",
              "    <path d=\"M18.56 5.44l.94 2.06.94-2.06 2.06-.94-2.06-.94-.94-2.06-.94 2.06-2.06.94zm-11 1L8.5 8.5l.94-2.06 2.06-.94-2.06-.94L8.5 2.5l-.94 2.06-2.06.94zm10 10l.94 2.06.94-2.06 2.06-.94-2.06-.94-.94-2.06-.94 2.06-2.06.94z\"/><path d=\"M17.41 7.96l-1.37-1.37c-.4-.4-.92-.59-1.43-.59-.52 0-1.04.2-1.43.59L10.3 9.45l-7.72 7.72c-.78.78-.78 2.05 0 2.83L4 21.41c.39.39.9.59 1.41.59.51 0 1.02-.2 1.41-.59l7.78-7.78 2.81-2.81c.8-.78.8-2.07 0-2.86zM5.41 20L4 18.59l7.72-7.72 1.47 1.35L5.41 20z\"/>\n",
              "  </svg>\n",
              "      </button>\n",
              "      \n",
              "  <style>\n",
              "    .colab-df-container {\n",
              "      display:flex;\n",
              "      flex-wrap:wrap;\n",
              "      gap: 12px;\n",
              "    }\n",
              "\n",
              "    .colab-df-convert {\n",
              "      background-color: #E8F0FE;\n",
              "      border: none;\n",
              "      border-radius: 50%;\n",
              "      cursor: pointer;\n",
              "      display: none;\n",
              "      fill: #1967D2;\n",
              "      height: 32px;\n",
              "      padding: 0 0 0 0;\n",
              "      width: 32px;\n",
              "    }\n",
              "\n",
              "    .colab-df-convert:hover {\n",
              "      background-color: #E2EBFA;\n",
              "      box-shadow: 0px 1px 2px rgba(60, 64, 67, 0.3), 0px 1px 3px 1px rgba(60, 64, 67, 0.15);\n",
              "      fill: #174EA6;\n",
              "    }\n",
              "\n",
              "    [theme=dark] .colab-df-convert {\n",
              "      background-color: #3B4455;\n",
              "      fill: #D2E3FC;\n",
              "    }\n",
              "\n",
              "    [theme=dark] .colab-df-convert:hover {\n",
              "      background-color: #434B5C;\n",
              "      box-shadow: 0px 1px 3px 1px rgba(0, 0, 0, 0.15);\n",
              "      filter: drop-shadow(0px 1px 2px rgba(0, 0, 0, 0.3));\n",
              "      fill: #FFFFFF;\n",
              "    }\n",
              "  </style>\n",
              "\n",
              "      <script>\n",
              "        const buttonEl =\n",
              "          document.querySelector('#df-4c012a83-7602-49f0-a20c-95b420873571 button.colab-df-convert');\n",
              "        buttonEl.style.display =\n",
              "          google.colab.kernel.accessAllowed ? 'block' : 'none';\n",
              "\n",
              "        async function convertToInteractive(key) {\n",
              "          const element = document.querySelector('#df-4c012a83-7602-49f0-a20c-95b420873571');\n",
              "          const dataTable =\n",
              "            await google.colab.kernel.invokeFunction('convertToInteractive',\n",
              "                                                     [key], {});\n",
              "          if (!dataTable) return;\n",
              "\n",
              "          const docLinkHtml = 'Like what you see? Visit the ' +\n",
              "            '<a target=\"_blank\" href=https://colab.research.google.com/notebooks/data_table.ipynb>data table notebook</a>'\n",
              "            + ' to learn more about interactive tables.';\n",
              "          element.innerHTML = '';\n",
              "          dataTable['output_type'] = 'display_data';\n",
              "          await google.colab.output.renderOutput(dataTable, element);\n",
              "          const docLink = document.createElement('div');\n",
              "          docLink.innerHTML = docLinkHtml;\n",
              "          element.appendChild(docLink);\n",
              "        }\n",
              "      </script>\n",
              "    </div>\n",
              "  </div>\n",
              "  "
            ]
          },
          "metadata": {},
          "execution_count": 26
        }
      ]
    },
    {
      "cell_type": "code",
      "source": [
        "melb_data.shape"
      ],
      "metadata": {
        "colab": {
          "base_uri": "https://localhost:8080/"
        },
        "id": "ExkOkenQ4v5R",
        "outputId": "61862ecb-76a5-49a9-c92c-0e35bb056ee0"
      },
      "execution_count": null,
      "outputs": [
        {
          "output_type": "execute_result",
          "data": {
            "text/plain": [
              "(13580, 10)"
            ]
          },
          "metadata": {},
          "execution_count": 27
        }
      ]
    },
    {
      "cell_type": "code",
      "source": [
        "# split the data to train and test\n",
        "\n",
        "X = melb_data.drop('Price', axis=1)\n",
        "X\n"
      ],
      "metadata": {
        "colab": {
          "base_uri": "https://localhost:8080/",
          "height": 424
        },
        "id": "ctISi1vs45ro",
        "outputId": "c2e47418-a8d4-48a7-aaf2-5f3dcae77a56"
      },
      "execution_count": null,
      "outputs": [
        {
          "output_type": "execute_result",
          "data": {
            "text/plain": [
              "       Rooms  Distance  Postcode  Bedroom2  Bathroom  Landsize  Lattitude  \\\n",
              "0          2       2.5    3067.0       2.0       1.0     202.0  -37.79960   \n",
              "1          2       2.5    3067.0       2.0       1.0     156.0  -37.80790   \n",
              "2          3       2.5    3067.0       3.0       2.0     134.0  -37.80930   \n",
              "3          3       2.5    3067.0       3.0       2.0      94.0  -37.79690   \n",
              "4          4       2.5    3067.0       3.0       1.0     120.0  -37.80720   \n",
              "...      ...       ...       ...       ...       ...       ...        ...   \n",
              "13575      4      16.7    3150.0       4.0       2.0     652.0  -37.90562   \n",
              "13576      3       6.8    3016.0       3.0       2.0     333.0  -37.85927   \n",
              "13577      3       6.8    3016.0       3.0       2.0     436.0  -37.85274   \n",
              "13578      4       6.8    3016.0       4.0       1.0     866.0  -37.85908   \n",
              "13579      4       6.3    3013.0       4.0       1.0     362.0  -37.81188   \n",
              "\n",
              "       Longtitude  Propertycount  \n",
              "0       144.99840         4019.0  \n",
              "1       144.99340         4019.0  \n",
              "2       144.99440         4019.0  \n",
              "3       144.99690         4019.0  \n",
              "4       144.99410         4019.0  \n",
              "...           ...            ...  \n",
              "13575   145.16761         7392.0  \n",
              "13576   144.87904         6380.0  \n",
              "13577   144.88738         6380.0  \n",
              "13578   144.89299         6380.0  \n",
              "13579   144.88449         6543.0  \n",
              "\n",
              "[13580 rows x 9 columns]"
            ],
            "text/html": [
              "\n",
              "  <div id=\"df-257ebffc-ca02-41d3-8ba5-e92aa0f705ee\">\n",
              "    <div class=\"colab-df-container\">\n",
              "      <div>\n",
              "<style scoped>\n",
              "    .dataframe tbody tr th:only-of-type {\n",
              "        vertical-align: middle;\n",
              "    }\n",
              "\n",
              "    .dataframe tbody tr th {\n",
              "        vertical-align: top;\n",
              "    }\n",
              "\n",
              "    .dataframe thead th {\n",
              "        text-align: right;\n",
              "    }\n",
              "</style>\n",
              "<table border=\"1\" class=\"dataframe\">\n",
              "  <thead>\n",
              "    <tr style=\"text-align: right;\">\n",
              "      <th></th>\n",
              "      <th>Rooms</th>\n",
              "      <th>Distance</th>\n",
              "      <th>Postcode</th>\n",
              "      <th>Bedroom2</th>\n",
              "      <th>Bathroom</th>\n",
              "      <th>Landsize</th>\n",
              "      <th>Lattitude</th>\n",
              "      <th>Longtitude</th>\n",
              "      <th>Propertycount</th>\n",
              "    </tr>\n",
              "  </thead>\n",
              "  <tbody>\n",
              "    <tr>\n",
              "      <th>0</th>\n",
              "      <td>2</td>\n",
              "      <td>2.5</td>\n",
              "      <td>3067.0</td>\n",
              "      <td>2.0</td>\n",
              "      <td>1.0</td>\n",
              "      <td>202.0</td>\n",
              "      <td>-37.79960</td>\n",
              "      <td>144.99840</td>\n",
              "      <td>4019.0</td>\n",
              "    </tr>\n",
              "    <tr>\n",
              "      <th>1</th>\n",
              "      <td>2</td>\n",
              "      <td>2.5</td>\n",
              "      <td>3067.0</td>\n",
              "      <td>2.0</td>\n",
              "      <td>1.0</td>\n",
              "      <td>156.0</td>\n",
              "      <td>-37.80790</td>\n",
              "      <td>144.99340</td>\n",
              "      <td>4019.0</td>\n",
              "    </tr>\n",
              "    <tr>\n",
              "      <th>2</th>\n",
              "      <td>3</td>\n",
              "      <td>2.5</td>\n",
              "      <td>3067.0</td>\n",
              "      <td>3.0</td>\n",
              "      <td>2.0</td>\n",
              "      <td>134.0</td>\n",
              "      <td>-37.80930</td>\n",
              "      <td>144.99440</td>\n",
              "      <td>4019.0</td>\n",
              "    </tr>\n",
              "    <tr>\n",
              "      <th>3</th>\n",
              "      <td>3</td>\n",
              "      <td>2.5</td>\n",
              "      <td>3067.0</td>\n",
              "      <td>3.0</td>\n",
              "      <td>2.0</td>\n",
              "      <td>94.0</td>\n",
              "      <td>-37.79690</td>\n",
              "      <td>144.99690</td>\n",
              "      <td>4019.0</td>\n",
              "    </tr>\n",
              "    <tr>\n",
              "      <th>4</th>\n",
              "      <td>4</td>\n",
              "      <td>2.5</td>\n",
              "      <td>3067.0</td>\n",
              "      <td>3.0</td>\n",
              "      <td>1.0</td>\n",
              "      <td>120.0</td>\n",
              "      <td>-37.80720</td>\n",
              "      <td>144.99410</td>\n",
              "      <td>4019.0</td>\n",
              "    </tr>\n",
              "    <tr>\n",
              "      <th>...</th>\n",
              "      <td>...</td>\n",
              "      <td>...</td>\n",
              "      <td>...</td>\n",
              "      <td>...</td>\n",
              "      <td>...</td>\n",
              "      <td>...</td>\n",
              "      <td>...</td>\n",
              "      <td>...</td>\n",
              "      <td>...</td>\n",
              "    </tr>\n",
              "    <tr>\n",
              "      <th>13575</th>\n",
              "      <td>4</td>\n",
              "      <td>16.7</td>\n",
              "      <td>3150.0</td>\n",
              "      <td>4.0</td>\n",
              "      <td>2.0</td>\n",
              "      <td>652.0</td>\n",
              "      <td>-37.90562</td>\n",
              "      <td>145.16761</td>\n",
              "      <td>7392.0</td>\n",
              "    </tr>\n",
              "    <tr>\n",
              "      <th>13576</th>\n",
              "      <td>3</td>\n",
              "      <td>6.8</td>\n",
              "      <td>3016.0</td>\n",
              "      <td>3.0</td>\n",
              "      <td>2.0</td>\n",
              "      <td>333.0</td>\n",
              "      <td>-37.85927</td>\n",
              "      <td>144.87904</td>\n",
              "      <td>6380.0</td>\n",
              "    </tr>\n",
              "    <tr>\n",
              "      <th>13577</th>\n",
              "      <td>3</td>\n",
              "      <td>6.8</td>\n",
              "      <td>3016.0</td>\n",
              "      <td>3.0</td>\n",
              "      <td>2.0</td>\n",
              "      <td>436.0</td>\n",
              "      <td>-37.85274</td>\n",
              "      <td>144.88738</td>\n",
              "      <td>6380.0</td>\n",
              "    </tr>\n",
              "    <tr>\n",
              "      <th>13578</th>\n",
              "      <td>4</td>\n",
              "      <td>6.8</td>\n",
              "      <td>3016.0</td>\n",
              "      <td>4.0</td>\n",
              "      <td>1.0</td>\n",
              "      <td>866.0</td>\n",
              "      <td>-37.85908</td>\n",
              "      <td>144.89299</td>\n",
              "      <td>6380.0</td>\n",
              "    </tr>\n",
              "    <tr>\n",
              "      <th>13579</th>\n",
              "      <td>4</td>\n",
              "      <td>6.3</td>\n",
              "      <td>3013.0</td>\n",
              "      <td>4.0</td>\n",
              "      <td>1.0</td>\n",
              "      <td>362.0</td>\n",
              "      <td>-37.81188</td>\n",
              "      <td>144.88449</td>\n",
              "      <td>6543.0</td>\n",
              "    </tr>\n",
              "  </tbody>\n",
              "</table>\n",
              "<p>13580 rows × 9 columns</p>\n",
              "</div>\n",
              "      <button class=\"colab-df-convert\" onclick=\"convertToInteractive('df-257ebffc-ca02-41d3-8ba5-e92aa0f705ee')\"\n",
              "              title=\"Convert this dataframe to an interactive table.\"\n",
              "              style=\"display:none;\">\n",
              "        \n",
              "  <svg xmlns=\"http://www.w3.org/2000/svg\" height=\"24px\"viewBox=\"0 0 24 24\"\n",
              "       width=\"24px\">\n",
              "    <path d=\"M0 0h24v24H0V0z\" fill=\"none\"/>\n",
              "    <path d=\"M18.56 5.44l.94 2.06.94-2.06 2.06-.94-2.06-.94-.94-2.06-.94 2.06-2.06.94zm-11 1L8.5 8.5l.94-2.06 2.06-.94-2.06-.94L8.5 2.5l-.94 2.06-2.06.94zm10 10l.94 2.06.94-2.06 2.06-.94-2.06-.94-.94-2.06-.94 2.06-2.06.94z\"/><path d=\"M17.41 7.96l-1.37-1.37c-.4-.4-.92-.59-1.43-.59-.52 0-1.04.2-1.43.59L10.3 9.45l-7.72 7.72c-.78.78-.78 2.05 0 2.83L4 21.41c.39.39.9.59 1.41.59.51 0 1.02-.2 1.41-.59l7.78-7.78 2.81-2.81c.8-.78.8-2.07 0-2.86zM5.41 20L4 18.59l7.72-7.72 1.47 1.35L5.41 20z\"/>\n",
              "  </svg>\n",
              "      </button>\n",
              "      \n",
              "  <style>\n",
              "    .colab-df-container {\n",
              "      display:flex;\n",
              "      flex-wrap:wrap;\n",
              "      gap: 12px;\n",
              "    }\n",
              "\n",
              "    .colab-df-convert {\n",
              "      background-color: #E8F0FE;\n",
              "      border: none;\n",
              "      border-radius: 50%;\n",
              "      cursor: pointer;\n",
              "      display: none;\n",
              "      fill: #1967D2;\n",
              "      height: 32px;\n",
              "      padding: 0 0 0 0;\n",
              "      width: 32px;\n",
              "    }\n",
              "\n",
              "    .colab-df-convert:hover {\n",
              "      background-color: #E2EBFA;\n",
              "      box-shadow: 0px 1px 2px rgba(60, 64, 67, 0.3), 0px 1px 3px 1px rgba(60, 64, 67, 0.15);\n",
              "      fill: #174EA6;\n",
              "    }\n",
              "\n",
              "    [theme=dark] .colab-df-convert {\n",
              "      background-color: #3B4455;\n",
              "      fill: #D2E3FC;\n",
              "    }\n",
              "\n",
              "    [theme=dark] .colab-df-convert:hover {\n",
              "      background-color: #434B5C;\n",
              "      box-shadow: 0px 1px 3px 1px rgba(0, 0, 0, 0.15);\n",
              "      filter: drop-shadow(0px 1px 2px rgba(0, 0, 0, 0.3));\n",
              "      fill: #FFFFFF;\n",
              "    }\n",
              "  </style>\n",
              "\n",
              "      <script>\n",
              "        const buttonEl =\n",
              "          document.querySelector('#df-257ebffc-ca02-41d3-8ba5-e92aa0f705ee button.colab-df-convert');\n",
              "        buttonEl.style.display =\n",
              "          google.colab.kernel.accessAllowed ? 'block' : 'none';\n",
              "\n",
              "        async function convertToInteractive(key) {\n",
              "          const element = document.querySelector('#df-257ebffc-ca02-41d3-8ba5-e92aa0f705ee');\n",
              "          const dataTable =\n",
              "            await google.colab.kernel.invokeFunction('convertToInteractive',\n",
              "                                                     [key], {});\n",
              "          if (!dataTable) return;\n",
              "\n",
              "          const docLinkHtml = 'Like what you see? Visit the ' +\n",
              "            '<a target=\"_blank\" href=https://colab.research.google.com/notebooks/data_table.ipynb>data table notebook</a>'\n",
              "            + ' to learn more about interactive tables.';\n",
              "          element.innerHTML = '';\n",
              "          dataTable['output_type'] = 'display_data';\n",
              "          await google.colab.output.renderOutput(dataTable, element);\n",
              "          const docLink = document.createElement('div');\n",
              "          docLink.innerHTML = docLinkHtml;\n",
              "          element.appendChild(docLink);\n",
              "        }\n",
              "      </script>\n",
              "    </div>\n",
              "  </div>\n",
              "  "
            ]
          },
          "metadata": {},
          "execution_count": 28
        }
      ]
    },
    {
      "cell_type": "code",
      "source": [
        "Y = melb_data['Price']\n",
        "Y"
      ],
      "metadata": {
        "colab": {
          "base_uri": "https://localhost:8080/"
        },
        "id": "kptUcBZs4_Qv",
        "outputId": "1433a057-50c8-44ee-e4bc-bae4eb583528"
      },
      "execution_count": null,
      "outputs": [
        {
          "output_type": "execute_result",
          "data": {
            "text/plain": [
              "0        1480000.0\n",
              "1        1035000.0\n",
              "2        1465000.0\n",
              "3         850000.0\n",
              "4        1600000.0\n",
              "           ...    \n",
              "13575    1245000.0\n",
              "13576    1031000.0\n",
              "13577    1170000.0\n",
              "13578    2350000.0\n",
              "13579    1285000.0\n",
              "Name: Price, Length: 13580, dtype: float64"
            ]
          },
          "metadata": {},
          "execution_count": 29
        }
      ]
    },
    {
      "cell_type": "code",
      "source": [
        "X.shape"
      ],
      "metadata": {
        "colab": {
          "base_uri": "https://localhost:8080/"
        },
        "id": "3Lz_N-XKNLS7",
        "outputId": "6e9ff167-4d44-43e1-8c13-5ae9e720cc3d"
      },
      "execution_count": null,
      "outputs": [
        {
          "output_type": "execute_result",
          "data": {
            "text/plain": [
              "(13580, 9)"
            ]
          },
          "metadata": {},
          "execution_count": 30
        }
      ]
    },
    {
      "cell_type": "code",
      "source": [
        "Y.shape"
      ],
      "metadata": {
        "colab": {
          "base_uri": "https://localhost:8080/"
        },
        "id": "5Ttjbxi_NLgc",
        "outputId": "576d6f8c-e7ed-4df6-8293-5fb521a322a0"
      },
      "execution_count": null,
      "outputs": [
        {
          "output_type": "execute_result",
          "data": {
            "text/plain": [
              "(13580,)"
            ]
          },
          "metadata": {},
          "execution_count": 31
        }
      ]
    },
    {
      "cell_type": "code",
      "source": [
        "X.isna().sum()"
      ],
      "metadata": {
        "colab": {
          "base_uri": "https://localhost:8080/"
        },
        "id": "Tg7-rRZE6q-H",
        "outputId": "90ddf4b5-5dea-4f4e-eb78-54545ebeba5f"
      },
      "execution_count": null,
      "outputs": [
        {
          "output_type": "execute_result",
          "data": {
            "text/plain": [
              "Rooms            0\n",
              "Distance         0\n",
              "Postcode         0\n",
              "Bedroom2         0\n",
              "Bathroom         0\n",
              "Landsize         0\n",
              "Lattitude        0\n",
              "Longtitude       0\n",
              "Propertycount    0\n",
              "dtype: int64"
            ]
          },
          "metadata": {},
          "execution_count": 32
        }
      ]
    },
    {
      "cell_type": "code",
      "source": [
        "Y.isna().sum()"
      ],
      "metadata": {
        "colab": {
          "base_uri": "https://localhost:8080/"
        },
        "id": "ScHMD25C61ZO",
        "outputId": "5ed18d27-2ee2-4e8a-d4eb-1d39e2832d40"
      },
      "execution_count": null,
      "outputs": [
        {
          "output_type": "execute_result",
          "data": {
            "text/plain": [
              "0"
            ]
          },
          "metadata": {},
          "execution_count": 33
        }
      ]
    },
    {
      "cell_type": "code",
      "source": [
        "x_train, x_test, y_train, y_test = train_test_split(X, Y, test_size=0.2, random_state=0)\n"
      ],
      "metadata": {
        "id": "lT4bAOui6-6o"
      },
      "execution_count": null,
      "outputs": []
    },
    {
      "cell_type": "code",
      "source": [
        "print(x_train.shape)\n",
        "print(y_train.shape)\n",
        "print(x_test.shape)\n",
        "print(y_test.shape)"
      ],
      "metadata": {
        "colab": {
          "base_uri": "https://localhost:8080/"
        },
        "id": "58H9-Jcs7RCp",
        "outputId": "3c0e0c7b-4844-4fc8-c574-20d17b0cae2b"
      },
      "execution_count": null,
      "outputs": [
        {
          "output_type": "stream",
          "name": "stdout",
          "text": [
            "(10864, 9)\n",
            "(10864,)\n",
            "(2716, 9)\n",
            "(2716,)\n"
          ]
        }
      ]
    },
    {
      "cell_type": "code",
      "source": [
        "# Model building \n",
        "\n",
        "rfr = RandomForestRegressor(n_estimators=100, criterion='squared_error', max_depth=None, random_state=0)\n",
        "\n",
        "rfr.fit(x_train, y_train)"
      ],
      "metadata": {
        "colab": {
          "base_uri": "https://localhost:8080/"
        },
        "id": "WMMlP1tl8ojB",
        "outputId": "b3739982-b5e2-4ad4-e29a-3f0a4842140a"
      },
      "execution_count": null,
      "outputs": [
        {
          "output_type": "execute_result",
          "data": {
            "text/plain": [
              "RandomForestRegressor(random_state=0)"
            ]
          },
          "metadata": {},
          "execution_count": 36
        }
      ]
    },
    {
      "cell_type": "code",
      "source": [
        "Y_pred = rfr.predict(x_test)\n",
        "\n",
        "Y_pred"
      ],
      "metadata": {
        "colab": {
          "base_uri": "https://localhost:8080/"
        },
        "id": "HWrVh2CL993T",
        "outputId": "d8163171-37b5-4b9b-a929-39a3d247a41f"
      },
      "execution_count": null,
      "outputs": [
        {
          "output_type": "execute_result",
          "data": {
            "text/plain": [
              "array([1603800.  ,  877959.  ,  604870.  , ..., 1385090.  , 1283148.88,\n",
              "       1059335.  ])"
            ]
          },
          "metadata": {},
          "execution_count": 37
        }
      ]
    },
    {
      "cell_type": "code",
      "source": [
        "# model evaluation metrics \n",
        "\n",
        "mse = mean_squared_error(y_test, Y_pred)\n",
        "\n",
        "mse"
      ],
      "metadata": {
        "colab": {
          "base_uri": "https://localhost:8080/"
        },
        "id": "_QFffBBID-th",
        "outputId": "79073b57-6472-465d-b6f4-fb5c79987471"
      },
      "execution_count": null,
      "outputs": [
        {
          "output_type": "execute_result",
          "data": {
            "text/plain": [
              "49785539625.86276"
            ]
          },
          "metadata": {},
          "execution_count": 38
        }
      ]
    },
    {
      "cell_type": "code",
      "source": [
        "mae = mean_absolute_error(y_test, Y_pred)\n",
        "\n",
        "mae"
      ],
      "metadata": {
        "colab": {
          "base_uri": "https://localhost:8080/"
        },
        "id": "q0kCS_sN8vGv",
        "outputId": "5547688f-f8d3-40d0-a243-b18156738278"
      },
      "execution_count": null,
      "outputs": [
        {
          "output_type": "execute_result",
          "data": {
            "text/plain": [
              "149394.6392532202"
            ]
          },
          "metadata": {},
          "execution_count": 49
        }
      ]
    },
    {
      "cell_type": "code",
      "source": [
        "\n",
        "from sklearn.preprocessing import StandardScaler\n",
        "\n",
        "ss=StandardScaler()\n",
        "\n",
        "ss.fit(x_train)\n"
      ],
      "metadata": {
        "colab": {
          "base_uri": "https://localhost:8080/"
        },
        "id": "TVGAgvZAGw55",
        "outputId": "f83eda4c-f303-4a6b-d14d-25ab6b0d8b50"
      },
      "execution_count": null,
      "outputs": [
        {
          "output_type": "execute_result",
          "data": {
            "text/plain": [
              "StandardScaler()"
            ]
          },
          "metadata": {},
          "execution_count": 39
        }
      ]
    },
    {
      "cell_type": "code",
      "source": [
        "x_train_std=pd.DataFrame(ss.transform(x_train), columns=x_train.columns)"
      ],
      "metadata": {
        "id": "QdYBgSwtKpao"
      },
      "execution_count": null,
      "outputs": []
    },
    {
      "cell_type": "code",
      "source": [
        "x_test_std=pd.DataFrame(ss.transform(x_test), columns=x_test.columns)"
      ],
      "metadata": {
        "id": "QFl1F-w0LJWb"
      },
      "execution_count": null,
      "outputs": []
    },
    {
      "cell_type": "code",
      "source": [
        "# Model building \n",
        "\n",
        "rfr = RandomForestRegressor(n_estimators=100, criterion='squared_error', random_state=0)\n",
        "\n",
        "rfr.fit(x_train_std, y_train)"
      ],
      "metadata": {
        "colab": {
          "base_uri": "https://localhost:8080/"
        },
        "id": "1dTKPeyzLwHg",
        "outputId": "0f9f019f-5978-4910-fd8d-78719627a707"
      },
      "execution_count": null,
      "outputs": [
        {
          "output_type": "execute_result",
          "data": {
            "text/plain": [
              "RandomForestRegressor(random_state=0)"
            ]
          },
          "metadata": {},
          "execution_count": 42
        }
      ]
    },
    {
      "cell_type": "code",
      "source": [
        "Y_pred = rfr.predict(x_test_std)\n",
        "\n",
        "Y_pred"
      ],
      "metadata": {
        "colab": {
          "base_uri": "https://localhost:8080/"
        },
        "id": "GuU0B0n2MLDa",
        "outputId": "7b48484f-3c63-46ec-e12b-4698bea5427b"
      },
      "execution_count": null,
      "outputs": [
        {
          "output_type": "execute_result",
          "data": {
            "text/plain": [
              "array([1605000.  ,  874969.  ,  606830.  , ..., 1378580.  , 1285778.88,\n",
              "       1059765.  ])"
            ]
          },
          "metadata": {},
          "execution_count": 43
        }
      ]
    },
    {
      "cell_type": "code",
      "source": [
        "mse = mean_squared_error(y_test, Y_pred)\n",
        "\n",
        "mse"
      ],
      "metadata": {
        "colab": {
          "base_uri": "https://localhost:8080/"
        },
        "id": "9LMsGdexMLiq",
        "outputId": "009b9a48-0986-4d96-8ea7-3951f53f4490"
      },
      "execution_count": null,
      "outputs": [
        {
          "output_type": "execute_result",
          "data": {
            "text/plain": [
              "49773873025.06153"
            ]
          },
          "metadata": {},
          "execution_count": 44
        }
      ]
    },
    {
      "cell_type": "code",
      "source": [
        "melb_preds = rfr.predict(x_test_std)\n",
        "print(mean_absolute_error(y_test, melb_preds))"
      ],
      "metadata": {
        "colab": {
          "base_uri": "https://localhost:8080/"
        },
        "id": "8ZtdoHNzML0N",
        "outputId": "706f1fde-52dc-42ab-e02e-a19d200eb74e"
      },
      "execution_count": null,
      "outputs": [
        {
          "output_type": "stream",
          "name": "stdout",
          "text": [
            "149394.6392532202\n"
          ]
        }
      ]
    },
    {
      "cell_type": "code",
      "source": [
        "\n"
      ],
      "metadata": {
        "id": "sUOqmSAhLWTt"
      },
      "execution_count": null,
      "outputs": []
    }
  ]
}